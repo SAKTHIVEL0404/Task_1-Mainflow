{
  "nbformat": 4,
  "nbformat_minor": 0,
  "metadata": {
    "colab": {
      "provenance": [],
      "toc_visible": true
    },
    "kernelspec": {
      "name": "python3",
      "display_name": "Python 3"
    },
    "language_info": {
      "name": "python"
    }
  },
  "cells": [
    {
      "cell_type": "code",
      "execution_count": 111,
      "metadata": {
        "id": "VQXvYObcJ4Ux"
      },
      "outputs": [],
      "source": []
    },
    {
      "cell_type": "markdown",
      "source": [
        "# IMPORTING **PACKAGES**"
      ],
      "metadata": {
        "id": "k1F4VRFEUQ46"
      }
    },
    {
      "cell_type": "code",
      "source": [
        "import pandas as pd\n",
        "import seaborn as sns\n",
        "import matplotlib.pyplot as plt\n"
      ],
      "metadata": {
        "id": "ck4dt7dyUQIA"
      },
      "execution_count": null,
      "outputs": []
    },
    {
      "cell_type": "markdown",
      "source": [
        "IMPORT & READ CSV FILE"
      ],
      "metadata": {
        "id": "fROSdw32UBT4"
      }
    },
    {
      "cell_type": "code",
      "source": [
        "df=pd.read_csv(\"/content/DOC-20231008-WA0005. - DOC-20231008-WA0005..csv\")\n",
        "df"
      ],
      "metadata": {
        "colab": {
          "base_uri": "https://localhost:8080/",
          "height": 478
        },
        "id": "w_UC8swYtjQa",
        "outputId": "8522acc8-f0da-4df1-ee87-c044cecb597f"
      },
      "execution_count": 112,
      "outputs": [
        {
          "output_type": "execute_result",
          "data": {
            "text/plain": [
              "    Observation  Y-Kappa  ChipRate  BF-CMratio   BlowFlow  ChipLevel4  \\\n",
              "0      31-00:00    23.10    16.520     121.717  1177.6070     169.805   \n",
              "1      31-01:00    27.60    16.810      79.022  1328.3600     341.327   \n",
              "2      31-02:00    23.19    16.709      79.562  1329.4070     239.161   \n",
              "3      31-03:00    23.60    16.478      81.011  1334.8770     213.527   \n",
              "4      31-04:00    22.90    15.618      93.244  1334.1680     243.131   \n",
              "..          ...      ...       ...         ...        ...         ...   \n",
              "298    12-09:00    20.90    15.167      84.640  1283.7060     339.440   \n",
              "299    12-10:00    24.98       NaN      85.034  1278.3450     368.564   \n",
              "300    12-11:00    21.00       NaN      88.013  1307.7220     278.842   \n",
              "301    12-12:00    21.40       NaN      85.490  1255.9860     273.484   \n",
              "302         avg    21.40    15.167      85.490  1235.0249     273.484   \n",
              "\n",
              "     T-upperExt-2  T-lowerExt-2     UCZAA  WhiteFlow-4  ...  SteamFlow-4  \\\n",
              "0      358.282000    329.545000  1.443000   599.253000  ...    67.122000   \n",
              "1      351.050000    329.067000  1.549000   537.201000  ...    60.012000   \n",
              "2      350.022000    329.260000  1.600000   549.611000  ...    61.304000   \n",
              "3      350.938000    331.142000  1.604000   623.362000  ...    68.496000   \n",
              "4      351.640000    332.709000       NaN   638.672000  ...    70.022000   \n",
              "..            ...           ...       ...          ...  ...          ...   \n",
              "298    354.803000    311.041000  1.635000   532.419000  ...    65.561000   \n",
              "299    357.723000    321.387000       NaN   520.365000  ...    65.729000   \n",
              "300    357.438000    323.757000       NaN   553.070000  ...    65.795000   \n",
              "301    361.365000    322.689000       NaN   590.199000  ...    71.456000   \n",
              "302    356.847405    356.847405  1.490076   593.481475  ...    66.834877   \n",
              "\n",
              "     Lower-HeatT-3  Upper-HeatT-3  ChipMass-4  WeakLiquorF  BlackFlow-2  \\\n",
              "0       329.432000     303.099000  175.964000  1127.197000  1319.039000   \n",
              "1       330.823000     304.879000  163.202000   665.975000  1297.317000   \n",
              "2       329.140000     303.383000  164.013000   677.534000  1327.072000   \n",
              "3       328.875000     302.254000  181.487000   767.853000  1324.461000   \n",
              "4       328.352000     300.954000  183.929000   888.448000  1343.424000   \n",
              "..             ...            ...         ...          ...          ...   \n",
              "298     332.924000     307.626000  145.299000   832.906000  1344.708000   \n",
              "299     332.523000     307.169000  151.544000   905.639000  1344.469000   \n",
              "300     331.263000     306.400000  157.954000   908.691000  1344.588000   \n",
              "301     333.032000     308.732000  174.069000   986.206000  1348.747000   \n",
              "302     325.340561     300.360179  162.138824   874.931522  1168.206774   \n",
              "\n",
              "      WeakWashF  SteamHeatF-3  T-Top-Chips-4  SulphidityL-4  \n",
              "0    257.325000     54.612000     252.077000      30.460000  \n",
              "1    241.182000     46.603000     251.406000      29.110000  \n",
              "2    237.272000     51.795000     251.335000      30.460000  \n",
              "3    239.478000     54.846000     250.312000      29.020000  \n",
              "4    215.372000     54.186000     249.916000      29.010000  \n",
              "..          ...           ...            ...            ...  \n",
              "298  388.911000     49.524000     251.833000      30.290000  \n",
              "299  418.979000     48.135000     251.614000      30.470000  \n",
              "300  462.712000     54.373000     251.197000      30.460000  \n",
              "301  457.313000     53.194000     251.324000      30.460000  \n",
              "302  267.095708     49.686983     251.219742      30.461507  \n",
              "\n",
              "[303 rows x 23 columns]"
            ],
            "text/html": [
              "\n",
              "  <div id=\"df-1559d560-1c9b-42bd-9455-44196660e310\" class=\"colab-df-container\">\n",
              "    <div>\n",
              "<style scoped>\n",
              "    .dataframe tbody tr th:only-of-type {\n",
              "        vertical-align: middle;\n",
              "    }\n",
              "\n",
              "    .dataframe tbody tr th {\n",
              "        vertical-align: top;\n",
              "    }\n",
              "\n",
              "    .dataframe thead th {\n",
              "        text-align: right;\n",
              "    }\n",
              "</style>\n",
              "<table border=\"1\" class=\"dataframe\">\n",
              "  <thead>\n",
              "    <tr style=\"text-align: right;\">\n",
              "      <th></th>\n",
              "      <th>Observation</th>\n",
              "      <th>Y-Kappa</th>\n",
              "      <th>ChipRate</th>\n",
              "      <th>BF-CMratio</th>\n",
              "      <th>BlowFlow</th>\n",
              "      <th>ChipLevel4</th>\n",
              "      <th>T-upperExt-2</th>\n",
              "      <th>T-lowerExt-2</th>\n",
              "      <th>UCZAA</th>\n",
              "      <th>WhiteFlow-4</th>\n",
              "      <th>...</th>\n",
              "      <th>SteamFlow-4</th>\n",
              "      <th>Lower-HeatT-3</th>\n",
              "      <th>Upper-HeatT-3</th>\n",
              "      <th>ChipMass-4</th>\n",
              "      <th>WeakLiquorF</th>\n",
              "      <th>BlackFlow-2</th>\n",
              "      <th>WeakWashF</th>\n",
              "      <th>SteamHeatF-3</th>\n",
              "      <th>T-Top-Chips-4</th>\n",
              "      <th>SulphidityL-4</th>\n",
              "    </tr>\n",
              "  </thead>\n",
              "  <tbody>\n",
              "    <tr>\n",
              "      <th>0</th>\n",
              "      <td>31-00:00</td>\n",
              "      <td>23.10</td>\n",
              "      <td>16.520</td>\n",
              "      <td>121.717</td>\n",
              "      <td>1177.6070</td>\n",
              "      <td>169.805</td>\n",
              "      <td>358.282000</td>\n",
              "      <td>329.545000</td>\n",
              "      <td>1.443000</td>\n",
              "      <td>599.253000</td>\n",
              "      <td>...</td>\n",
              "      <td>67.122000</td>\n",
              "      <td>329.432000</td>\n",
              "      <td>303.099000</td>\n",
              "      <td>175.964000</td>\n",
              "      <td>1127.197000</td>\n",
              "      <td>1319.039000</td>\n",
              "      <td>257.325000</td>\n",
              "      <td>54.612000</td>\n",
              "      <td>252.077000</td>\n",
              "      <td>30.460000</td>\n",
              "    </tr>\n",
              "    <tr>\n",
              "      <th>1</th>\n",
              "      <td>31-01:00</td>\n",
              "      <td>27.60</td>\n",
              "      <td>16.810</td>\n",
              "      <td>79.022</td>\n",
              "      <td>1328.3600</td>\n",
              "      <td>341.327</td>\n",
              "      <td>351.050000</td>\n",
              "      <td>329.067000</td>\n",
              "      <td>1.549000</td>\n",
              "      <td>537.201000</td>\n",
              "      <td>...</td>\n",
              "      <td>60.012000</td>\n",
              "      <td>330.823000</td>\n",
              "      <td>304.879000</td>\n",
              "      <td>163.202000</td>\n",
              "      <td>665.975000</td>\n",
              "      <td>1297.317000</td>\n",
              "      <td>241.182000</td>\n",
              "      <td>46.603000</td>\n",
              "      <td>251.406000</td>\n",
              "      <td>29.110000</td>\n",
              "    </tr>\n",
              "    <tr>\n",
              "      <th>2</th>\n",
              "      <td>31-02:00</td>\n",
              "      <td>23.19</td>\n",
              "      <td>16.709</td>\n",
              "      <td>79.562</td>\n",
              "      <td>1329.4070</td>\n",
              "      <td>239.161</td>\n",
              "      <td>350.022000</td>\n",
              "      <td>329.260000</td>\n",
              "      <td>1.600000</td>\n",
              "      <td>549.611000</td>\n",
              "      <td>...</td>\n",
              "      <td>61.304000</td>\n",
              "      <td>329.140000</td>\n",
              "      <td>303.383000</td>\n",
              "      <td>164.013000</td>\n",
              "      <td>677.534000</td>\n",
              "      <td>1327.072000</td>\n",
              "      <td>237.272000</td>\n",
              "      <td>51.795000</td>\n",
              "      <td>251.335000</td>\n",
              "      <td>30.460000</td>\n",
              "    </tr>\n",
              "    <tr>\n",
              "      <th>3</th>\n",
              "      <td>31-03:00</td>\n",
              "      <td>23.60</td>\n",
              "      <td>16.478</td>\n",
              "      <td>81.011</td>\n",
              "      <td>1334.8770</td>\n",
              "      <td>213.527</td>\n",
              "      <td>350.938000</td>\n",
              "      <td>331.142000</td>\n",
              "      <td>1.604000</td>\n",
              "      <td>623.362000</td>\n",
              "      <td>...</td>\n",
              "      <td>68.496000</td>\n",
              "      <td>328.875000</td>\n",
              "      <td>302.254000</td>\n",
              "      <td>181.487000</td>\n",
              "      <td>767.853000</td>\n",
              "      <td>1324.461000</td>\n",
              "      <td>239.478000</td>\n",
              "      <td>54.846000</td>\n",
              "      <td>250.312000</td>\n",
              "      <td>29.020000</td>\n",
              "    </tr>\n",
              "    <tr>\n",
              "      <th>4</th>\n",
              "      <td>31-04:00</td>\n",
              "      <td>22.90</td>\n",
              "      <td>15.618</td>\n",
              "      <td>93.244</td>\n",
              "      <td>1334.1680</td>\n",
              "      <td>243.131</td>\n",
              "      <td>351.640000</td>\n",
              "      <td>332.709000</td>\n",
              "      <td>NaN</td>\n",
              "      <td>638.672000</td>\n",
              "      <td>...</td>\n",
              "      <td>70.022000</td>\n",
              "      <td>328.352000</td>\n",
              "      <td>300.954000</td>\n",
              "      <td>183.929000</td>\n",
              "      <td>888.448000</td>\n",
              "      <td>1343.424000</td>\n",
              "      <td>215.372000</td>\n",
              "      <td>54.186000</td>\n",
              "      <td>249.916000</td>\n",
              "      <td>29.010000</td>\n",
              "    </tr>\n",
              "    <tr>\n",
              "      <th>...</th>\n",
              "      <td>...</td>\n",
              "      <td>...</td>\n",
              "      <td>...</td>\n",
              "      <td>...</td>\n",
              "      <td>...</td>\n",
              "      <td>...</td>\n",
              "      <td>...</td>\n",
              "      <td>...</td>\n",
              "      <td>...</td>\n",
              "      <td>...</td>\n",
              "      <td>...</td>\n",
              "      <td>...</td>\n",
              "      <td>...</td>\n",
              "      <td>...</td>\n",
              "      <td>...</td>\n",
              "      <td>...</td>\n",
              "      <td>...</td>\n",
              "      <td>...</td>\n",
              "      <td>...</td>\n",
              "      <td>...</td>\n",
              "      <td>...</td>\n",
              "    </tr>\n",
              "    <tr>\n",
              "      <th>298</th>\n",
              "      <td>12-09:00</td>\n",
              "      <td>20.90</td>\n",
              "      <td>15.167</td>\n",
              "      <td>84.640</td>\n",
              "      <td>1283.7060</td>\n",
              "      <td>339.440</td>\n",
              "      <td>354.803000</td>\n",
              "      <td>311.041000</td>\n",
              "      <td>1.635000</td>\n",
              "      <td>532.419000</td>\n",
              "      <td>...</td>\n",
              "      <td>65.561000</td>\n",
              "      <td>332.924000</td>\n",
              "      <td>307.626000</td>\n",
              "      <td>145.299000</td>\n",
              "      <td>832.906000</td>\n",
              "      <td>1344.708000</td>\n",
              "      <td>388.911000</td>\n",
              "      <td>49.524000</td>\n",
              "      <td>251.833000</td>\n",
              "      <td>30.290000</td>\n",
              "    </tr>\n",
              "    <tr>\n",
              "      <th>299</th>\n",
              "      <td>12-10:00</td>\n",
              "      <td>24.98</td>\n",
              "      <td>NaN</td>\n",
              "      <td>85.034</td>\n",
              "      <td>1278.3450</td>\n",
              "      <td>368.564</td>\n",
              "      <td>357.723000</td>\n",
              "      <td>321.387000</td>\n",
              "      <td>NaN</td>\n",
              "      <td>520.365000</td>\n",
              "      <td>...</td>\n",
              "      <td>65.729000</td>\n",
              "      <td>332.523000</td>\n",
              "      <td>307.169000</td>\n",
              "      <td>151.544000</td>\n",
              "      <td>905.639000</td>\n",
              "      <td>1344.469000</td>\n",
              "      <td>418.979000</td>\n",
              "      <td>48.135000</td>\n",
              "      <td>251.614000</td>\n",
              "      <td>30.470000</td>\n",
              "    </tr>\n",
              "    <tr>\n",
              "      <th>300</th>\n",
              "      <td>12-11:00</td>\n",
              "      <td>21.00</td>\n",
              "      <td>NaN</td>\n",
              "      <td>88.013</td>\n",
              "      <td>1307.7220</td>\n",
              "      <td>278.842</td>\n",
              "      <td>357.438000</td>\n",
              "      <td>323.757000</td>\n",
              "      <td>NaN</td>\n",
              "      <td>553.070000</td>\n",
              "      <td>...</td>\n",
              "      <td>65.795000</td>\n",
              "      <td>331.263000</td>\n",
              "      <td>306.400000</td>\n",
              "      <td>157.954000</td>\n",
              "      <td>908.691000</td>\n",
              "      <td>1344.588000</td>\n",
              "      <td>462.712000</td>\n",
              "      <td>54.373000</td>\n",
              "      <td>251.197000</td>\n",
              "      <td>30.460000</td>\n",
              "    </tr>\n",
              "    <tr>\n",
              "      <th>301</th>\n",
              "      <td>12-12:00</td>\n",
              "      <td>21.40</td>\n",
              "      <td>NaN</td>\n",
              "      <td>85.490</td>\n",
              "      <td>1255.9860</td>\n",
              "      <td>273.484</td>\n",
              "      <td>361.365000</td>\n",
              "      <td>322.689000</td>\n",
              "      <td>NaN</td>\n",
              "      <td>590.199000</td>\n",
              "      <td>...</td>\n",
              "      <td>71.456000</td>\n",
              "      <td>333.032000</td>\n",
              "      <td>308.732000</td>\n",
              "      <td>174.069000</td>\n",
              "      <td>986.206000</td>\n",
              "      <td>1348.747000</td>\n",
              "      <td>457.313000</td>\n",
              "      <td>53.194000</td>\n",
              "      <td>251.324000</td>\n",
              "      <td>30.460000</td>\n",
              "    </tr>\n",
              "    <tr>\n",
              "      <th>302</th>\n",
              "      <td>avg</td>\n",
              "      <td>21.40</td>\n",
              "      <td>15.167</td>\n",
              "      <td>85.490</td>\n",
              "      <td>1235.0249</td>\n",
              "      <td>273.484</td>\n",
              "      <td>356.847405</td>\n",
              "      <td>356.847405</td>\n",
              "      <td>1.490076</td>\n",
              "      <td>593.481475</td>\n",
              "      <td>...</td>\n",
              "      <td>66.834877</td>\n",
              "      <td>325.340561</td>\n",
              "      <td>300.360179</td>\n",
              "      <td>162.138824</td>\n",
              "      <td>874.931522</td>\n",
              "      <td>1168.206774</td>\n",
              "      <td>267.095708</td>\n",
              "      <td>49.686983</td>\n",
              "      <td>251.219742</td>\n",
              "      <td>30.461507</td>\n",
              "    </tr>\n",
              "  </tbody>\n",
              "</table>\n",
              "<p>303 rows × 23 columns</p>\n",
              "</div>\n",
              "    <div class=\"colab-df-buttons\">\n",
              "\n",
              "  <div class=\"colab-df-container\">\n",
              "    <button class=\"colab-df-convert\" onclick=\"convertToInteractive('df-1559d560-1c9b-42bd-9455-44196660e310')\"\n",
              "            title=\"Convert this dataframe to an interactive table.\"\n",
              "            style=\"display:none;\">\n",
              "\n",
              "  <svg xmlns=\"http://www.w3.org/2000/svg\" height=\"24px\" viewBox=\"0 -960 960 960\">\n",
              "    <path d=\"M120-120v-720h720v720H120Zm60-500h600v-160H180v160Zm220 220h160v-160H400v160Zm0 220h160v-160H400v160ZM180-400h160v-160H180v160Zm440 0h160v-160H620v160ZM180-180h160v-160H180v160Zm440 0h160v-160H620v160Z\"/>\n",
              "  </svg>\n",
              "    </button>\n",
              "\n",
              "  <style>\n",
              "    .colab-df-container {\n",
              "      display:flex;\n",
              "      gap: 12px;\n",
              "    }\n",
              "\n",
              "    .colab-df-convert {\n",
              "      background-color: #E8F0FE;\n",
              "      border: none;\n",
              "      border-radius: 50%;\n",
              "      cursor: pointer;\n",
              "      display: none;\n",
              "      fill: #1967D2;\n",
              "      height: 32px;\n",
              "      padding: 0 0 0 0;\n",
              "      width: 32px;\n",
              "    }\n",
              "\n",
              "    .colab-df-convert:hover {\n",
              "      background-color: #E2EBFA;\n",
              "      box-shadow: 0px 1px 2px rgba(60, 64, 67, 0.3), 0px 1px 3px 1px rgba(60, 64, 67, 0.15);\n",
              "      fill: #174EA6;\n",
              "    }\n",
              "\n",
              "    .colab-df-buttons div {\n",
              "      margin-bottom: 4px;\n",
              "    }\n",
              "\n",
              "    [theme=dark] .colab-df-convert {\n",
              "      background-color: #3B4455;\n",
              "      fill: #D2E3FC;\n",
              "    }\n",
              "\n",
              "    [theme=dark] .colab-df-convert:hover {\n",
              "      background-color: #434B5C;\n",
              "      box-shadow: 0px 1px 3px 1px rgba(0, 0, 0, 0.15);\n",
              "      filter: drop-shadow(0px 1px 2px rgba(0, 0, 0, 0.3));\n",
              "      fill: #FFFFFF;\n",
              "    }\n",
              "  </style>\n",
              "\n",
              "    <script>\n",
              "      const buttonEl =\n",
              "        document.querySelector('#df-1559d560-1c9b-42bd-9455-44196660e310 button.colab-df-convert');\n",
              "      buttonEl.style.display =\n",
              "        google.colab.kernel.accessAllowed ? 'block' : 'none';\n",
              "\n",
              "      async function convertToInteractive(key) {\n",
              "        const element = document.querySelector('#df-1559d560-1c9b-42bd-9455-44196660e310');\n",
              "        const dataTable =\n",
              "          await google.colab.kernel.invokeFunction('convertToInteractive',\n",
              "                                                    [key], {});\n",
              "        if (!dataTable) return;\n",
              "\n",
              "        const docLinkHtml = 'Like what you see? Visit the ' +\n",
              "          '<a target=\"_blank\" href=https://colab.research.google.com/notebooks/data_table.ipynb>data table notebook</a>'\n",
              "          + ' to learn more about interactive tables.';\n",
              "        element.innerHTML = '';\n",
              "        dataTable['output_type'] = 'display_data';\n",
              "        await google.colab.output.renderOutput(dataTable, element);\n",
              "        const docLink = document.createElement('div');\n",
              "        docLink.innerHTML = docLinkHtml;\n",
              "        element.appendChild(docLink);\n",
              "      }\n",
              "    </script>\n",
              "  </div>\n",
              "\n",
              "\n",
              "<div id=\"df-8ccdaec6-7808-4419-842b-b8d931184d85\">\n",
              "  <button class=\"colab-df-quickchart\" onclick=\"quickchart('df-8ccdaec6-7808-4419-842b-b8d931184d85')\"\n",
              "            title=\"Suggest charts.\"\n",
              "            style=\"display:none;\">\n",
              "\n",
              "<svg xmlns=\"http://www.w3.org/2000/svg\" height=\"24px\"viewBox=\"0 0 24 24\"\n",
              "     width=\"24px\">\n",
              "    <g>\n",
              "        <path d=\"M19 3H5c-1.1 0-2 .9-2 2v14c0 1.1.9 2 2 2h14c1.1 0 2-.9 2-2V5c0-1.1-.9-2-2-2zM9 17H7v-7h2v7zm4 0h-2V7h2v10zm4 0h-2v-4h2v4z\"/>\n",
              "    </g>\n",
              "</svg>\n",
              "  </button>\n",
              "\n",
              "<style>\n",
              "  .colab-df-quickchart {\n",
              "      --bg-color: #E8F0FE;\n",
              "      --fill-color: #1967D2;\n",
              "      --hover-bg-color: #E2EBFA;\n",
              "      --hover-fill-color: #174EA6;\n",
              "      --disabled-fill-color: #AAA;\n",
              "      --disabled-bg-color: #DDD;\n",
              "  }\n",
              "\n",
              "  [theme=dark] .colab-df-quickchart {\n",
              "      --bg-color: #3B4455;\n",
              "      --fill-color: #D2E3FC;\n",
              "      --hover-bg-color: #434B5C;\n",
              "      --hover-fill-color: #FFFFFF;\n",
              "      --disabled-bg-color: #3B4455;\n",
              "      --disabled-fill-color: #666;\n",
              "  }\n",
              "\n",
              "  .colab-df-quickchart {\n",
              "    background-color: var(--bg-color);\n",
              "    border: none;\n",
              "    border-radius: 50%;\n",
              "    cursor: pointer;\n",
              "    display: none;\n",
              "    fill: var(--fill-color);\n",
              "    height: 32px;\n",
              "    padding: 0;\n",
              "    width: 32px;\n",
              "  }\n",
              "\n",
              "  .colab-df-quickchart:hover {\n",
              "    background-color: var(--hover-bg-color);\n",
              "    box-shadow: 0 1px 2px rgba(60, 64, 67, 0.3), 0 1px 3px 1px rgba(60, 64, 67, 0.15);\n",
              "    fill: var(--button-hover-fill-color);\n",
              "  }\n",
              "\n",
              "  .colab-df-quickchart-complete:disabled,\n",
              "  .colab-df-quickchart-complete:disabled:hover {\n",
              "    background-color: var(--disabled-bg-color);\n",
              "    fill: var(--disabled-fill-color);\n",
              "    box-shadow: none;\n",
              "  }\n",
              "\n",
              "  .colab-df-spinner {\n",
              "    border: 2px solid var(--fill-color);\n",
              "    border-color: transparent;\n",
              "    border-bottom-color: var(--fill-color);\n",
              "    animation:\n",
              "      spin 1s steps(1) infinite;\n",
              "  }\n",
              "\n",
              "  @keyframes spin {\n",
              "    0% {\n",
              "      border-color: transparent;\n",
              "      border-bottom-color: var(--fill-color);\n",
              "      border-left-color: var(--fill-color);\n",
              "    }\n",
              "    20% {\n",
              "      border-color: transparent;\n",
              "      border-left-color: var(--fill-color);\n",
              "      border-top-color: var(--fill-color);\n",
              "    }\n",
              "    30% {\n",
              "      border-color: transparent;\n",
              "      border-left-color: var(--fill-color);\n",
              "      border-top-color: var(--fill-color);\n",
              "      border-right-color: var(--fill-color);\n",
              "    }\n",
              "    40% {\n",
              "      border-color: transparent;\n",
              "      border-right-color: var(--fill-color);\n",
              "      border-top-color: var(--fill-color);\n",
              "    }\n",
              "    60% {\n",
              "      border-color: transparent;\n",
              "      border-right-color: var(--fill-color);\n",
              "    }\n",
              "    80% {\n",
              "      border-color: transparent;\n",
              "      border-right-color: var(--fill-color);\n",
              "      border-bottom-color: var(--fill-color);\n",
              "    }\n",
              "    90% {\n",
              "      border-color: transparent;\n",
              "      border-bottom-color: var(--fill-color);\n",
              "    }\n",
              "  }\n",
              "</style>\n",
              "\n",
              "  <script>\n",
              "    async function quickchart(key) {\n",
              "      const quickchartButtonEl =\n",
              "        document.querySelector('#' + key + ' button');\n",
              "      quickchartButtonEl.disabled = true;  // To prevent multiple clicks.\n",
              "      quickchartButtonEl.classList.add('colab-df-spinner');\n",
              "      try {\n",
              "        const charts = await google.colab.kernel.invokeFunction(\n",
              "            'suggestCharts', [key], {});\n",
              "      } catch (error) {\n",
              "        console.error('Error during call to suggestCharts:', error);\n",
              "      }\n",
              "      quickchartButtonEl.classList.remove('colab-df-spinner');\n",
              "      quickchartButtonEl.classList.add('colab-df-quickchart-complete');\n",
              "    }\n",
              "    (() => {\n",
              "      let quickchartButtonEl =\n",
              "        document.querySelector('#df-8ccdaec6-7808-4419-842b-b8d931184d85 button');\n",
              "      quickchartButtonEl.style.display =\n",
              "        google.colab.kernel.accessAllowed ? 'block' : 'none';\n",
              "    })();\n",
              "  </script>\n",
              "</div>\n",
              "    </div>\n",
              "  </div>\n"
            ]
          },
          "metadata": {},
          "execution_count": 112
        }
      ]
    },
    {
      "cell_type": "code",
      "source": [
        "df.isnull()"
      ],
      "metadata": {
        "id": "O_JOdJtutHys",
        "colab": {
          "base_uri": "https://localhost:8080/",
          "height": 478
        },
        "outputId": "72fa36c7-c7bc-4244-f74c-96772cc9846b"
      },
      "execution_count": 113,
      "outputs": [
        {
          "output_type": "execute_result",
          "data": {
            "text/plain": [
              "     Observation  Y-Kappa  ChipRate  BF-CMratio  BlowFlow  ChipLevel4  \\\n",
              "0          False    False     False       False     False       False   \n",
              "1          False    False     False       False     False       False   \n",
              "2          False    False     False       False     False       False   \n",
              "3          False    False     False       False     False       False   \n",
              "4          False    False     False       False     False       False   \n",
              "..           ...      ...       ...         ...       ...         ...   \n",
              "298        False    False     False       False     False       False   \n",
              "299        False    False      True       False     False       False   \n",
              "300        False    False      True       False     False       False   \n",
              "301        False    False      True       False     False       False   \n",
              "302        False    False     False       False     False       False   \n",
              "\n",
              "     T-upperExt-2  T-lowerExt-2  UCZAA  WhiteFlow-4  ...  SteamFlow-4  \\\n",
              "0           False         False  False        False  ...        False   \n",
              "1           False         False  False        False  ...        False   \n",
              "2           False         False  False        False  ...        False   \n",
              "3           False         False  False        False  ...        False   \n",
              "4           False         False   True        False  ...        False   \n",
              "..            ...           ...    ...          ...  ...          ...   \n",
              "298         False         False  False        False  ...        False   \n",
              "299         False         False   True        False  ...        False   \n",
              "300         False         False   True        False  ...        False   \n",
              "301         False         False   True        False  ...        False   \n",
              "302         False         False  False        False  ...        False   \n",
              "\n",
              "     Lower-HeatT-3  Upper-HeatT-3  ChipMass-4  WeakLiquorF  BlackFlow-2  \\\n",
              "0            False          False       False        False        False   \n",
              "1            False          False       False        False        False   \n",
              "2            False          False       False        False        False   \n",
              "3            False          False       False        False        False   \n",
              "4            False          False       False        False        False   \n",
              "..             ...            ...         ...          ...          ...   \n",
              "298          False          False       False        False        False   \n",
              "299          False          False       False        False        False   \n",
              "300          False          False       False        False        False   \n",
              "301          False          False       False        False        False   \n",
              "302          False          False       False        False        False   \n",
              "\n",
              "     WeakWashF  SteamHeatF-3  T-Top-Chips-4  SulphidityL-4  \n",
              "0        False         False          False          False  \n",
              "1        False         False          False          False  \n",
              "2        False         False          False          False  \n",
              "3        False         False          False          False  \n",
              "4        False         False          False          False  \n",
              "..         ...           ...            ...            ...  \n",
              "298      False         False          False          False  \n",
              "299      False         False          False          False  \n",
              "300      False         False          False          False  \n",
              "301      False         False          False          False  \n",
              "302      False         False          False          False  \n",
              "\n",
              "[303 rows x 23 columns]"
            ],
            "text/html": [
              "\n",
              "  <div id=\"df-ffd45fe6-7ac0-4cc2-b6dc-d0e7aebdfbe0\" class=\"colab-df-container\">\n",
              "    <div>\n",
              "<style scoped>\n",
              "    .dataframe tbody tr th:only-of-type {\n",
              "        vertical-align: middle;\n",
              "    }\n",
              "\n",
              "    .dataframe tbody tr th {\n",
              "        vertical-align: top;\n",
              "    }\n",
              "\n",
              "    .dataframe thead th {\n",
              "        text-align: right;\n",
              "    }\n",
              "</style>\n",
              "<table border=\"1\" class=\"dataframe\">\n",
              "  <thead>\n",
              "    <tr style=\"text-align: right;\">\n",
              "      <th></th>\n",
              "      <th>Observation</th>\n",
              "      <th>Y-Kappa</th>\n",
              "      <th>ChipRate</th>\n",
              "      <th>BF-CMratio</th>\n",
              "      <th>BlowFlow</th>\n",
              "      <th>ChipLevel4</th>\n",
              "      <th>T-upperExt-2</th>\n",
              "      <th>T-lowerExt-2</th>\n",
              "      <th>UCZAA</th>\n",
              "      <th>WhiteFlow-4</th>\n",
              "      <th>...</th>\n",
              "      <th>SteamFlow-4</th>\n",
              "      <th>Lower-HeatT-3</th>\n",
              "      <th>Upper-HeatT-3</th>\n",
              "      <th>ChipMass-4</th>\n",
              "      <th>WeakLiquorF</th>\n",
              "      <th>BlackFlow-2</th>\n",
              "      <th>WeakWashF</th>\n",
              "      <th>SteamHeatF-3</th>\n",
              "      <th>T-Top-Chips-4</th>\n",
              "      <th>SulphidityL-4</th>\n",
              "    </tr>\n",
              "  </thead>\n",
              "  <tbody>\n",
              "    <tr>\n",
              "      <th>0</th>\n",
              "      <td>False</td>\n",
              "      <td>False</td>\n",
              "      <td>False</td>\n",
              "      <td>False</td>\n",
              "      <td>False</td>\n",
              "      <td>False</td>\n",
              "      <td>False</td>\n",
              "      <td>False</td>\n",
              "      <td>False</td>\n",
              "      <td>False</td>\n",
              "      <td>...</td>\n",
              "      <td>False</td>\n",
              "      <td>False</td>\n",
              "      <td>False</td>\n",
              "      <td>False</td>\n",
              "      <td>False</td>\n",
              "      <td>False</td>\n",
              "      <td>False</td>\n",
              "      <td>False</td>\n",
              "      <td>False</td>\n",
              "      <td>False</td>\n",
              "    </tr>\n",
              "    <tr>\n",
              "      <th>1</th>\n",
              "      <td>False</td>\n",
              "      <td>False</td>\n",
              "      <td>False</td>\n",
              "      <td>False</td>\n",
              "      <td>False</td>\n",
              "      <td>False</td>\n",
              "      <td>False</td>\n",
              "      <td>False</td>\n",
              "      <td>False</td>\n",
              "      <td>False</td>\n",
              "      <td>...</td>\n",
              "      <td>False</td>\n",
              "      <td>False</td>\n",
              "      <td>False</td>\n",
              "      <td>False</td>\n",
              "      <td>False</td>\n",
              "      <td>False</td>\n",
              "      <td>False</td>\n",
              "      <td>False</td>\n",
              "      <td>False</td>\n",
              "      <td>False</td>\n",
              "    </tr>\n",
              "    <tr>\n",
              "      <th>2</th>\n",
              "      <td>False</td>\n",
              "      <td>False</td>\n",
              "      <td>False</td>\n",
              "      <td>False</td>\n",
              "      <td>False</td>\n",
              "      <td>False</td>\n",
              "      <td>False</td>\n",
              "      <td>False</td>\n",
              "      <td>False</td>\n",
              "      <td>False</td>\n",
              "      <td>...</td>\n",
              "      <td>False</td>\n",
              "      <td>False</td>\n",
              "      <td>False</td>\n",
              "      <td>False</td>\n",
              "      <td>False</td>\n",
              "      <td>False</td>\n",
              "      <td>False</td>\n",
              "      <td>False</td>\n",
              "      <td>False</td>\n",
              "      <td>False</td>\n",
              "    </tr>\n",
              "    <tr>\n",
              "      <th>3</th>\n",
              "      <td>False</td>\n",
              "      <td>False</td>\n",
              "      <td>False</td>\n",
              "      <td>False</td>\n",
              "      <td>False</td>\n",
              "      <td>False</td>\n",
              "      <td>False</td>\n",
              "      <td>False</td>\n",
              "      <td>False</td>\n",
              "      <td>False</td>\n",
              "      <td>...</td>\n",
              "      <td>False</td>\n",
              "      <td>False</td>\n",
              "      <td>False</td>\n",
              "      <td>False</td>\n",
              "      <td>False</td>\n",
              "      <td>False</td>\n",
              "      <td>False</td>\n",
              "      <td>False</td>\n",
              "      <td>False</td>\n",
              "      <td>False</td>\n",
              "    </tr>\n",
              "    <tr>\n",
              "      <th>4</th>\n",
              "      <td>False</td>\n",
              "      <td>False</td>\n",
              "      <td>False</td>\n",
              "      <td>False</td>\n",
              "      <td>False</td>\n",
              "      <td>False</td>\n",
              "      <td>False</td>\n",
              "      <td>False</td>\n",
              "      <td>True</td>\n",
              "      <td>False</td>\n",
              "      <td>...</td>\n",
              "      <td>False</td>\n",
              "      <td>False</td>\n",
              "      <td>False</td>\n",
              "      <td>False</td>\n",
              "      <td>False</td>\n",
              "      <td>False</td>\n",
              "      <td>False</td>\n",
              "      <td>False</td>\n",
              "      <td>False</td>\n",
              "      <td>False</td>\n",
              "    </tr>\n",
              "    <tr>\n",
              "      <th>...</th>\n",
              "      <td>...</td>\n",
              "      <td>...</td>\n",
              "      <td>...</td>\n",
              "      <td>...</td>\n",
              "      <td>...</td>\n",
              "      <td>...</td>\n",
              "      <td>...</td>\n",
              "      <td>...</td>\n",
              "      <td>...</td>\n",
              "      <td>...</td>\n",
              "      <td>...</td>\n",
              "      <td>...</td>\n",
              "      <td>...</td>\n",
              "      <td>...</td>\n",
              "      <td>...</td>\n",
              "      <td>...</td>\n",
              "      <td>...</td>\n",
              "      <td>...</td>\n",
              "      <td>...</td>\n",
              "      <td>...</td>\n",
              "      <td>...</td>\n",
              "    </tr>\n",
              "    <tr>\n",
              "      <th>298</th>\n",
              "      <td>False</td>\n",
              "      <td>False</td>\n",
              "      <td>False</td>\n",
              "      <td>False</td>\n",
              "      <td>False</td>\n",
              "      <td>False</td>\n",
              "      <td>False</td>\n",
              "      <td>False</td>\n",
              "      <td>False</td>\n",
              "      <td>False</td>\n",
              "      <td>...</td>\n",
              "      <td>False</td>\n",
              "      <td>False</td>\n",
              "      <td>False</td>\n",
              "      <td>False</td>\n",
              "      <td>False</td>\n",
              "      <td>False</td>\n",
              "      <td>False</td>\n",
              "      <td>False</td>\n",
              "      <td>False</td>\n",
              "      <td>False</td>\n",
              "    </tr>\n",
              "    <tr>\n",
              "      <th>299</th>\n",
              "      <td>False</td>\n",
              "      <td>False</td>\n",
              "      <td>True</td>\n",
              "      <td>False</td>\n",
              "      <td>False</td>\n",
              "      <td>False</td>\n",
              "      <td>False</td>\n",
              "      <td>False</td>\n",
              "      <td>True</td>\n",
              "      <td>False</td>\n",
              "      <td>...</td>\n",
              "      <td>False</td>\n",
              "      <td>False</td>\n",
              "      <td>False</td>\n",
              "      <td>False</td>\n",
              "      <td>False</td>\n",
              "      <td>False</td>\n",
              "      <td>False</td>\n",
              "      <td>False</td>\n",
              "      <td>False</td>\n",
              "      <td>False</td>\n",
              "    </tr>\n",
              "    <tr>\n",
              "      <th>300</th>\n",
              "      <td>False</td>\n",
              "      <td>False</td>\n",
              "      <td>True</td>\n",
              "      <td>False</td>\n",
              "      <td>False</td>\n",
              "      <td>False</td>\n",
              "      <td>False</td>\n",
              "      <td>False</td>\n",
              "      <td>True</td>\n",
              "      <td>False</td>\n",
              "      <td>...</td>\n",
              "      <td>False</td>\n",
              "      <td>False</td>\n",
              "      <td>False</td>\n",
              "      <td>False</td>\n",
              "      <td>False</td>\n",
              "      <td>False</td>\n",
              "      <td>False</td>\n",
              "      <td>False</td>\n",
              "      <td>False</td>\n",
              "      <td>False</td>\n",
              "    </tr>\n",
              "    <tr>\n",
              "      <th>301</th>\n",
              "      <td>False</td>\n",
              "      <td>False</td>\n",
              "      <td>True</td>\n",
              "      <td>False</td>\n",
              "      <td>False</td>\n",
              "      <td>False</td>\n",
              "      <td>False</td>\n",
              "      <td>False</td>\n",
              "      <td>True</td>\n",
              "      <td>False</td>\n",
              "      <td>...</td>\n",
              "      <td>False</td>\n",
              "      <td>False</td>\n",
              "      <td>False</td>\n",
              "      <td>False</td>\n",
              "      <td>False</td>\n",
              "      <td>False</td>\n",
              "      <td>False</td>\n",
              "      <td>False</td>\n",
              "      <td>False</td>\n",
              "      <td>False</td>\n",
              "    </tr>\n",
              "    <tr>\n",
              "      <th>302</th>\n",
              "      <td>False</td>\n",
              "      <td>False</td>\n",
              "      <td>False</td>\n",
              "      <td>False</td>\n",
              "      <td>False</td>\n",
              "      <td>False</td>\n",
              "      <td>False</td>\n",
              "      <td>False</td>\n",
              "      <td>False</td>\n",
              "      <td>False</td>\n",
              "      <td>...</td>\n",
              "      <td>False</td>\n",
              "      <td>False</td>\n",
              "      <td>False</td>\n",
              "      <td>False</td>\n",
              "      <td>False</td>\n",
              "      <td>False</td>\n",
              "      <td>False</td>\n",
              "      <td>False</td>\n",
              "      <td>False</td>\n",
              "      <td>False</td>\n",
              "    </tr>\n",
              "  </tbody>\n",
              "</table>\n",
              "<p>303 rows × 23 columns</p>\n",
              "</div>\n",
              "    <div class=\"colab-df-buttons\">\n",
              "\n",
              "  <div class=\"colab-df-container\">\n",
              "    <button class=\"colab-df-convert\" onclick=\"convertToInteractive('df-ffd45fe6-7ac0-4cc2-b6dc-d0e7aebdfbe0')\"\n",
              "            title=\"Convert this dataframe to an interactive table.\"\n",
              "            style=\"display:none;\">\n",
              "\n",
              "  <svg xmlns=\"http://www.w3.org/2000/svg\" height=\"24px\" viewBox=\"0 -960 960 960\">\n",
              "    <path d=\"M120-120v-720h720v720H120Zm60-500h600v-160H180v160Zm220 220h160v-160H400v160Zm0 220h160v-160H400v160ZM180-400h160v-160H180v160Zm440 0h160v-160H620v160ZM180-180h160v-160H180v160Zm440 0h160v-160H620v160Z\"/>\n",
              "  </svg>\n",
              "    </button>\n",
              "\n",
              "  <style>\n",
              "    .colab-df-container {\n",
              "      display:flex;\n",
              "      gap: 12px;\n",
              "    }\n",
              "\n",
              "    .colab-df-convert {\n",
              "      background-color: #E8F0FE;\n",
              "      border: none;\n",
              "      border-radius: 50%;\n",
              "      cursor: pointer;\n",
              "      display: none;\n",
              "      fill: #1967D2;\n",
              "      height: 32px;\n",
              "      padding: 0 0 0 0;\n",
              "      width: 32px;\n",
              "    }\n",
              "\n",
              "    .colab-df-convert:hover {\n",
              "      background-color: #E2EBFA;\n",
              "      box-shadow: 0px 1px 2px rgba(60, 64, 67, 0.3), 0px 1px 3px 1px rgba(60, 64, 67, 0.15);\n",
              "      fill: #174EA6;\n",
              "    }\n",
              "\n",
              "    .colab-df-buttons div {\n",
              "      margin-bottom: 4px;\n",
              "    }\n",
              "\n",
              "    [theme=dark] .colab-df-convert {\n",
              "      background-color: #3B4455;\n",
              "      fill: #D2E3FC;\n",
              "    }\n",
              "\n",
              "    [theme=dark] .colab-df-convert:hover {\n",
              "      background-color: #434B5C;\n",
              "      box-shadow: 0px 1px 3px 1px rgba(0, 0, 0, 0.15);\n",
              "      filter: drop-shadow(0px 1px 2px rgba(0, 0, 0, 0.3));\n",
              "      fill: #FFFFFF;\n",
              "    }\n",
              "  </style>\n",
              "\n",
              "    <script>\n",
              "      const buttonEl =\n",
              "        document.querySelector('#df-ffd45fe6-7ac0-4cc2-b6dc-d0e7aebdfbe0 button.colab-df-convert');\n",
              "      buttonEl.style.display =\n",
              "        google.colab.kernel.accessAllowed ? 'block' : 'none';\n",
              "\n",
              "      async function convertToInteractive(key) {\n",
              "        const element = document.querySelector('#df-ffd45fe6-7ac0-4cc2-b6dc-d0e7aebdfbe0');\n",
              "        const dataTable =\n",
              "          await google.colab.kernel.invokeFunction('convertToInteractive',\n",
              "                                                    [key], {});\n",
              "        if (!dataTable) return;\n",
              "\n",
              "        const docLinkHtml = 'Like what you see? Visit the ' +\n",
              "          '<a target=\"_blank\" href=https://colab.research.google.com/notebooks/data_table.ipynb>data table notebook</a>'\n",
              "          + ' to learn more about interactive tables.';\n",
              "        element.innerHTML = '';\n",
              "        dataTable['output_type'] = 'display_data';\n",
              "        await google.colab.output.renderOutput(dataTable, element);\n",
              "        const docLink = document.createElement('div');\n",
              "        docLink.innerHTML = docLinkHtml;\n",
              "        element.appendChild(docLink);\n",
              "      }\n",
              "    </script>\n",
              "  </div>\n",
              "\n",
              "\n",
              "<div id=\"df-50272c90-a405-4d68-8280-060b9b589035\">\n",
              "  <button class=\"colab-df-quickchart\" onclick=\"quickchart('df-50272c90-a405-4d68-8280-060b9b589035')\"\n",
              "            title=\"Suggest charts.\"\n",
              "            style=\"display:none;\">\n",
              "\n",
              "<svg xmlns=\"http://www.w3.org/2000/svg\" height=\"24px\"viewBox=\"0 0 24 24\"\n",
              "     width=\"24px\">\n",
              "    <g>\n",
              "        <path d=\"M19 3H5c-1.1 0-2 .9-2 2v14c0 1.1.9 2 2 2h14c1.1 0 2-.9 2-2V5c0-1.1-.9-2-2-2zM9 17H7v-7h2v7zm4 0h-2V7h2v10zm4 0h-2v-4h2v4z\"/>\n",
              "    </g>\n",
              "</svg>\n",
              "  </button>\n",
              "\n",
              "<style>\n",
              "  .colab-df-quickchart {\n",
              "      --bg-color: #E8F0FE;\n",
              "      --fill-color: #1967D2;\n",
              "      --hover-bg-color: #E2EBFA;\n",
              "      --hover-fill-color: #174EA6;\n",
              "      --disabled-fill-color: #AAA;\n",
              "      --disabled-bg-color: #DDD;\n",
              "  }\n",
              "\n",
              "  [theme=dark] .colab-df-quickchart {\n",
              "      --bg-color: #3B4455;\n",
              "      --fill-color: #D2E3FC;\n",
              "      --hover-bg-color: #434B5C;\n",
              "      --hover-fill-color: #FFFFFF;\n",
              "      --disabled-bg-color: #3B4455;\n",
              "      --disabled-fill-color: #666;\n",
              "  }\n",
              "\n",
              "  .colab-df-quickchart {\n",
              "    background-color: var(--bg-color);\n",
              "    border: none;\n",
              "    border-radius: 50%;\n",
              "    cursor: pointer;\n",
              "    display: none;\n",
              "    fill: var(--fill-color);\n",
              "    height: 32px;\n",
              "    padding: 0;\n",
              "    width: 32px;\n",
              "  }\n",
              "\n",
              "  .colab-df-quickchart:hover {\n",
              "    background-color: var(--hover-bg-color);\n",
              "    box-shadow: 0 1px 2px rgba(60, 64, 67, 0.3), 0 1px 3px 1px rgba(60, 64, 67, 0.15);\n",
              "    fill: var(--button-hover-fill-color);\n",
              "  }\n",
              "\n",
              "  .colab-df-quickchart-complete:disabled,\n",
              "  .colab-df-quickchart-complete:disabled:hover {\n",
              "    background-color: var(--disabled-bg-color);\n",
              "    fill: var(--disabled-fill-color);\n",
              "    box-shadow: none;\n",
              "  }\n",
              "\n",
              "  .colab-df-spinner {\n",
              "    border: 2px solid var(--fill-color);\n",
              "    border-color: transparent;\n",
              "    border-bottom-color: var(--fill-color);\n",
              "    animation:\n",
              "      spin 1s steps(1) infinite;\n",
              "  }\n",
              "\n",
              "  @keyframes spin {\n",
              "    0% {\n",
              "      border-color: transparent;\n",
              "      border-bottom-color: var(--fill-color);\n",
              "      border-left-color: var(--fill-color);\n",
              "    }\n",
              "    20% {\n",
              "      border-color: transparent;\n",
              "      border-left-color: var(--fill-color);\n",
              "      border-top-color: var(--fill-color);\n",
              "    }\n",
              "    30% {\n",
              "      border-color: transparent;\n",
              "      border-left-color: var(--fill-color);\n",
              "      border-top-color: var(--fill-color);\n",
              "      border-right-color: var(--fill-color);\n",
              "    }\n",
              "    40% {\n",
              "      border-color: transparent;\n",
              "      border-right-color: var(--fill-color);\n",
              "      border-top-color: var(--fill-color);\n",
              "    }\n",
              "    60% {\n",
              "      border-color: transparent;\n",
              "      border-right-color: var(--fill-color);\n",
              "    }\n",
              "    80% {\n",
              "      border-color: transparent;\n",
              "      border-right-color: var(--fill-color);\n",
              "      border-bottom-color: var(--fill-color);\n",
              "    }\n",
              "    90% {\n",
              "      border-color: transparent;\n",
              "      border-bottom-color: var(--fill-color);\n",
              "    }\n",
              "  }\n",
              "</style>\n",
              "\n",
              "  <script>\n",
              "    async function quickchart(key) {\n",
              "      const quickchartButtonEl =\n",
              "        document.querySelector('#' + key + ' button');\n",
              "      quickchartButtonEl.disabled = true;  // To prevent multiple clicks.\n",
              "      quickchartButtonEl.classList.add('colab-df-spinner');\n",
              "      try {\n",
              "        const charts = await google.colab.kernel.invokeFunction(\n",
              "            'suggestCharts', [key], {});\n",
              "      } catch (error) {\n",
              "        console.error('Error during call to suggestCharts:', error);\n",
              "      }\n",
              "      quickchartButtonEl.classList.remove('colab-df-spinner');\n",
              "      quickchartButtonEl.classList.add('colab-df-quickchart-complete');\n",
              "    }\n",
              "    (() => {\n",
              "      let quickchartButtonEl =\n",
              "        document.querySelector('#df-50272c90-a405-4d68-8280-060b9b589035 button');\n",
              "      quickchartButtonEl.style.display =\n",
              "        google.colab.kernel.accessAllowed ? 'block' : 'none';\n",
              "    })();\n",
              "  </script>\n",
              "</div>\n",
              "    </div>\n",
              "  </div>\n"
            ]
          },
          "metadata": {},
          "execution_count": 113
        }
      ]
    },
    {
      "cell_type": "code",
      "source": [
        "df.isnull().sum()\n"
      ],
      "metadata": {
        "colab": {
          "base_uri": "https://localhost:8080/"
        },
        "id": "Mcvmezc_uXov",
        "outputId": "08018771-b043-4ceb-b51f-bd470664cb4c"
      },
      "execution_count": 114,
      "outputs": [
        {
          "output_type": "execute_result",
          "data": {
            "text/plain": [
              "Observation         0\n",
              "Y-Kappa             0\n",
              "ChipRate            4\n",
              "BF-CMratio         14\n",
              "BlowFlow           13\n",
              "ChipLevel4          1\n",
              "T-upperExt-2        1\n",
              "T-lowerExt-2        1\n",
              "UCZAA              24\n",
              "WhiteFlow-4         1\n",
              "AAWhiteSt-4       141\n",
              "AA-Wood-4           1\n",
              "ChipMoisture-4      1\n",
              "SteamFlow-4         1\n",
              "Lower-HeatT-3       1\n",
              "Upper-HeatT-3       1\n",
              "ChipMass-4          1\n",
              "WeakLiquorF         1\n",
              "BlackFlow-2         1\n",
              "WeakWashF           1\n",
              "SteamHeatF-3        0\n",
              "T-Top-Chips-4       0\n",
              "SulphidityL-4       0\n",
              "dtype: int64"
            ]
          },
          "metadata": {},
          "execution_count": 114
        }
      ]
    },
    {
      "cell_type": "code",
      "source": [
        "df = df.fillna(value=df[\"ChipRate\"].mean())\n",
        "df = df.fillna(value=df[\"BF-CMratio\"].mean())\n",
        "df = df.fillna(value=df[\"BlowFlow\"].mean())\n",
        "df = df.fillna(value=df[\"T-upperExt-2\"].mean())\n",
        "df = df.fillna(value=df['UCZAA'].mean())\n",
        "df = df.fillna(value=df['ChipLevel4'].mean())\n",
        "df = df.fillna(value=df['T-lowerExt-2'].mean())\n",
        "df = df.fillna(value=df['WhiteFlow-4'].mean())\n",
        "df = df.fillna(value=df['AAWhiteSt-4'].mean())\n",
        "df = df.fillna(value=df['AA-Wood-4'].mean())\n",
        "df = df.fillna(value=df['SteamFlow-4'].mean())\n",
        "df = df.fillna(value=df['Lower-HeatT-3'].mean())\n",
        "df = df.fillna(value=df['ChipMass-4'].mean())\n",
        "df = df.fillna(value=df['WeakLiquorF'].mean())\n",
        "df = df.fillna(value=df['BlackFlow-2'].mean())\n",
        "df = df.fillna(value=df['WeakWashF'].mean())\n",
        "df = df.fillna(value=df['SteamHeatF-3'].mean())\n",
        "df = df.fillna(value=df['T-Top-Chips-4'].mean())\n",
        "df = df.fillna(value=df['SulphidityL-4'].mean())\n",
        "df"
      ],
      "metadata": {
        "colab": {
          "base_uri": "https://localhost:8080/",
          "height": 478
        },
        "id": "adXC70bXue6-",
        "outputId": "a422940f-aff8-4e42-c389-dcce575d9975"
      },
      "execution_count": 115,
      "outputs": [
        {
          "output_type": "execute_result",
          "data": {
            "text/plain": [
              "    Observation  Y-Kappa   ChipRate  BF-CMratio   BlowFlow  ChipLevel4  \\\n",
              "0      31-00:00    23.10  16.520000     121.717  1177.6070     169.805   \n",
              "1      31-01:00    27.60  16.810000      79.022  1328.3600     341.327   \n",
              "2      31-02:00    23.19  16.709000      79.562  1329.4070     239.161   \n",
              "3      31-03:00    23.60  16.478000      81.011  1334.8770     213.527   \n",
              "4      31-04:00    22.90  15.618000      93.244  1334.1680     243.131   \n",
              "..          ...      ...        ...         ...        ...         ...   \n",
              "298    12-09:00    20.90  15.167000      84.640  1283.7060     339.440   \n",
              "299    12-10:00    24.98  14.342789      85.034  1278.3450     368.564   \n",
              "300    12-11:00    21.00  14.342789      88.013  1307.7220     278.842   \n",
              "301    12-12:00    21.40  14.342789      85.490  1255.9860     273.484   \n",
              "302         avg    21.40  15.167000      85.490  1235.0249     273.484   \n",
              "\n",
              "     T-upperExt-2  T-lowerExt-2      UCZAA  WhiteFlow-4  ...  SteamFlow-4  \\\n",
              "0      358.282000    329.545000   1.443000   599.253000  ...    67.122000   \n",
              "1      351.050000    329.067000   1.549000   537.201000  ...    60.012000   \n",
              "2      350.022000    329.260000   1.600000   549.611000  ...    61.304000   \n",
              "3      350.938000    331.142000   1.604000   623.362000  ...    68.496000   \n",
              "4      351.640000    332.709000  14.342789   638.672000  ...    70.022000   \n",
              "..            ...           ...        ...          ...  ...          ...   \n",
              "298    354.803000    311.041000   1.635000   532.419000  ...    65.561000   \n",
              "299    357.723000    321.387000  14.342789   520.365000  ...    65.729000   \n",
              "300    357.438000    323.757000  14.342789   553.070000  ...    65.795000   \n",
              "301    361.365000    322.689000  14.342789   590.199000  ...    71.456000   \n",
              "302    356.847405    356.847405   1.490076   593.481475  ...    66.834877   \n",
              "\n",
              "     Lower-HeatT-3  Upper-HeatT-3  ChipMass-4  WeakLiquorF  BlackFlow-2  \\\n",
              "0       329.432000     303.099000  175.964000  1127.197000  1319.039000   \n",
              "1       330.823000     304.879000  163.202000   665.975000  1297.317000   \n",
              "2       329.140000     303.383000  164.013000   677.534000  1327.072000   \n",
              "3       328.875000     302.254000  181.487000   767.853000  1324.461000   \n",
              "4       328.352000     300.954000  183.929000   888.448000  1343.424000   \n",
              "..             ...            ...         ...          ...          ...   \n",
              "298     332.924000     307.626000  145.299000   832.906000  1344.708000   \n",
              "299     332.523000     307.169000  151.544000   905.639000  1344.469000   \n",
              "300     331.263000     306.400000  157.954000   908.691000  1344.588000   \n",
              "301     333.032000     308.732000  174.069000   986.206000  1348.747000   \n",
              "302     325.340561     300.360179  162.138824   874.931522  1168.206774   \n",
              "\n",
              "      WeakWashF  SteamHeatF-3  T-Top-Chips-4  SulphidityL-4  \n",
              "0    257.325000     54.612000     252.077000      30.460000  \n",
              "1    241.182000     46.603000     251.406000      29.110000  \n",
              "2    237.272000     51.795000     251.335000      30.460000  \n",
              "3    239.478000     54.846000     250.312000      29.020000  \n",
              "4    215.372000     54.186000     249.916000      29.010000  \n",
              "..          ...           ...            ...            ...  \n",
              "298  388.911000     49.524000     251.833000      30.290000  \n",
              "299  418.979000     48.135000     251.614000      30.470000  \n",
              "300  462.712000     54.373000     251.197000      30.460000  \n",
              "301  457.313000     53.194000     251.324000      30.460000  \n",
              "302  267.095708     49.686983     251.219742      30.461507  \n",
              "\n",
              "[303 rows x 23 columns]"
            ],
            "text/html": [
              "\n",
              "  <div id=\"df-150c3604-663f-439e-9b9c-7b0b1746eaa6\" class=\"colab-df-container\">\n",
              "    <div>\n",
              "<style scoped>\n",
              "    .dataframe tbody tr th:only-of-type {\n",
              "        vertical-align: middle;\n",
              "    }\n",
              "\n",
              "    .dataframe tbody tr th {\n",
              "        vertical-align: top;\n",
              "    }\n",
              "\n",
              "    .dataframe thead th {\n",
              "        text-align: right;\n",
              "    }\n",
              "</style>\n",
              "<table border=\"1\" class=\"dataframe\">\n",
              "  <thead>\n",
              "    <tr style=\"text-align: right;\">\n",
              "      <th></th>\n",
              "      <th>Observation</th>\n",
              "      <th>Y-Kappa</th>\n",
              "      <th>ChipRate</th>\n",
              "      <th>BF-CMratio</th>\n",
              "      <th>BlowFlow</th>\n",
              "      <th>ChipLevel4</th>\n",
              "      <th>T-upperExt-2</th>\n",
              "      <th>T-lowerExt-2</th>\n",
              "      <th>UCZAA</th>\n",
              "      <th>WhiteFlow-4</th>\n",
              "      <th>...</th>\n",
              "      <th>SteamFlow-4</th>\n",
              "      <th>Lower-HeatT-3</th>\n",
              "      <th>Upper-HeatT-3</th>\n",
              "      <th>ChipMass-4</th>\n",
              "      <th>WeakLiquorF</th>\n",
              "      <th>BlackFlow-2</th>\n",
              "      <th>WeakWashF</th>\n",
              "      <th>SteamHeatF-3</th>\n",
              "      <th>T-Top-Chips-4</th>\n",
              "      <th>SulphidityL-4</th>\n",
              "    </tr>\n",
              "  </thead>\n",
              "  <tbody>\n",
              "    <tr>\n",
              "      <th>0</th>\n",
              "      <td>31-00:00</td>\n",
              "      <td>23.10</td>\n",
              "      <td>16.520000</td>\n",
              "      <td>121.717</td>\n",
              "      <td>1177.6070</td>\n",
              "      <td>169.805</td>\n",
              "      <td>358.282000</td>\n",
              "      <td>329.545000</td>\n",
              "      <td>1.443000</td>\n",
              "      <td>599.253000</td>\n",
              "      <td>...</td>\n",
              "      <td>67.122000</td>\n",
              "      <td>329.432000</td>\n",
              "      <td>303.099000</td>\n",
              "      <td>175.964000</td>\n",
              "      <td>1127.197000</td>\n",
              "      <td>1319.039000</td>\n",
              "      <td>257.325000</td>\n",
              "      <td>54.612000</td>\n",
              "      <td>252.077000</td>\n",
              "      <td>30.460000</td>\n",
              "    </tr>\n",
              "    <tr>\n",
              "      <th>1</th>\n",
              "      <td>31-01:00</td>\n",
              "      <td>27.60</td>\n",
              "      <td>16.810000</td>\n",
              "      <td>79.022</td>\n",
              "      <td>1328.3600</td>\n",
              "      <td>341.327</td>\n",
              "      <td>351.050000</td>\n",
              "      <td>329.067000</td>\n",
              "      <td>1.549000</td>\n",
              "      <td>537.201000</td>\n",
              "      <td>...</td>\n",
              "      <td>60.012000</td>\n",
              "      <td>330.823000</td>\n",
              "      <td>304.879000</td>\n",
              "      <td>163.202000</td>\n",
              "      <td>665.975000</td>\n",
              "      <td>1297.317000</td>\n",
              "      <td>241.182000</td>\n",
              "      <td>46.603000</td>\n",
              "      <td>251.406000</td>\n",
              "      <td>29.110000</td>\n",
              "    </tr>\n",
              "    <tr>\n",
              "      <th>2</th>\n",
              "      <td>31-02:00</td>\n",
              "      <td>23.19</td>\n",
              "      <td>16.709000</td>\n",
              "      <td>79.562</td>\n",
              "      <td>1329.4070</td>\n",
              "      <td>239.161</td>\n",
              "      <td>350.022000</td>\n",
              "      <td>329.260000</td>\n",
              "      <td>1.600000</td>\n",
              "      <td>549.611000</td>\n",
              "      <td>...</td>\n",
              "      <td>61.304000</td>\n",
              "      <td>329.140000</td>\n",
              "      <td>303.383000</td>\n",
              "      <td>164.013000</td>\n",
              "      <td>677.534000</td>\n",
              "      <td>1327.072000</td>\n",
              "      <td>237.272000</td>\n",
              "      <td>51.795000</td>\n",
              "      <td>251.335000</td>\n",
              "      <td>30.460000</td>\n",
              "    </tr>\n",
              "    <tr>\n",
              "      <th>3</th>\n",
              "      <td>31-03:00</td>\n",
              "      <td>23.60</td>\n",
              "      <td>16.478000</td>\n",
              "      <td>81.011</td>\n",
              "      <td>1334.8770</td>\n",
              "      <td>213.527</td>\n",
              "      <td>350.938000</td>\n",
              "      <td>331.142000</td>\n",
              "      <td>1.604000</td>\n",
              "      <td>623.362000</td>\n",
              "      <td>...</td>\n",
              "      <td>68.496000</td>\n",
              "      <td>328.875000</td>\n",
              "      <td>302.254000</td>\n",
              "      <td>181.487000</td>\n",
              "      <td>767.853000</td>\n",
              "      <td>1324.461000</td>\n",
              "      <td>239.478000</td>\n",
              "      <td>54.846000</td>\n",
              "      <td>250.312000</td>\n",
              "      <td>29.020000</td>\n",
              "    </tr>\n",
              "    <tr>\n",
              "      <th>4</th>\n",
              "      <td>31-04:00</td>\n",
              "      <td>22.90</td>\n",
              "      <td>15.618000</td>\n",
              "      <td>93.244</td>\n",
              "      <td>1334.1680</td>\n",
              "      <td>243.131</td>\n",
              "      <td>351.640000</td>\n",
              "      <td>332.709000</td>\n",
              "      <td>14.342789</td>\n",
              "      <td>638.672000</td>\n",
              "      <td>...</td>\n",
              "      <td>70.022000</td>\n",
              "      <td>328.352000</td>\n",
              "      <td>300.954000</td>\n",
              "      <td>183.929000</td>\n",
              "      <td>888.448000</td>\n",
              "      <td>1343.424000</td>\n",
              "      <td>215.372000</td>\n",
              "      <td>54.186000</td>\n",
              "      <td>249.916000</td>\n",
              "      <td>29.010000</td>\n",
              "    </tr>\n",
              "    <tr>\n",
              "      <th>...</th>\n",
              "      <td>...</td>\n",
              "      <td>...</td>\n",
              "      <td>...</td>\n",
              "      <td>...</td>\n",
              "      <td>...</td>\n",
              "      <td>...</td>\n",
              "      <td>...</td>\n",
              "      <td>...</td>\n",
              "      <td>...</td>\n",
              "      <td>...</td>\n",
              "      <td>...</td>\n",
              "      <td>...</td>\n",
              "      <td>...</td>\n",
              "      <td>...</td>\n",
              "      <td>...</td>\n",
              "      <td>...</td>\n",
              "      <td>...</td>\n",
              "      <td>...</td>\n",
              "      <td>...</td>\n",
              "      <td>...</td>\n",
              "      <td>...</td>\n",
              "    </tr>\n",
              "    <tr>\n",
              "      <th>298</th>\n",
              "      <td>12-09:00</td>\n",
              "      <td>20.90</td>\n",
              "      <td>15.167000</td>\n",
              "      <td>84.640</td>\n",
              "      <td>1283.7060</td>\n",
              "      <td>339.440</td>\n",
              "      <td>354.803000</td>\n",
              "      <td>311.041000</td>\n",
              "      <td>1.635000</td>\n",
              "      <td>532.419000</td>\n",
              "      <td>...</td>\n",
              "      <td>65.561000</td>\n",
              "      <td>332.924000</td>\n",
              "      <td>307.626000</td>\n",
              "      <td>145.299000</td>\n",
              "      <td>832.906000</td>\n",
              "      <td>1344.708000</td>\n",
              "      <td>388.911000</td>\n",
              "      <td>49.524000</td>\n",
              "      <td>251.833000</td>\n",
              "      <td>30.290000</td>\n",
              "    </tr>\n",
              "    <tr>\n",
              "      <th>299</th>\n",
              "      <td>12-10:00</td>\n",
              "      <td>24.98</td>\n",
              "      <td>14.342789</td>\n",
              "      <td>85.034</td>\n",
              "      <td>1278.3450</td>\n",
              "      <td>368.564</td>\n",
              "      <td>357.723000</td>\n",
              "      <td>321.387000</td>\n",
              "      <td>14.342789</td>\n",
              "      <td>520.365000</td>\n",
              "      <td>...</td>\n",
              "      <td>65.729000</td>\n",
              "      <td>332.523000</td>\n",
              "      <td>307.169000</td>\n",
              "      <td>151.544000</td>\n",
              "      <td>905.639000</td>\n",
              "      <td>1344.469000</td>\n",
              "      <td>418.979000</td>\n",
              "      <td>48.135000</td>\n",
              "      <td>251.614000</td>\n",
              "      <td>30.470000</td>\n",
              "    </tr>\n",
              "    <tr>\n",
              "      <th>300</th>\n",
              "      <td>12-11:00</td>\n",
              "      <td>21.00</td>\n",
              "      <td>14.342789</td>\n",
              "      <td>88.013</td>\n",
              "      <td>1307.7220</td>\n",
              "      <td>278.842</td>\n",
              "      <td>357.438000</td>\n",
              "      <td>323.757000</td>\n",
              "      <td>14.342789</td>\n",
              "      <td>553.070000</td>\n",
              "      <td>...</td>\n",
              "      <td>65.795000</td>\n",
              "      <td>331.263000</td>\n",
              "      <td>306.400000</td>\n",
              "      <td>157.954000</td>\n",
              "      <td>908.691000</td>\n",
              "      <td>1344.588000</td>\n",
              "      <td>462.712000</td>\n",
              "      <td>54.373000</td>\n",
              "      <td>251.197000</td>\n",
              "      <td>30.460000</td>\n",
              "    </tr>\n",
              "    <tr>\n",
              "      <th>301</th>\n",
              "      <td>12-12:00</td>\n",
              "      <td>21.40</td>\n",
              "      <td>14.342789</td>\n",
              "      <td>85.490</td>\n",
              "      <td>1255.9860</td>\n",
              "      <td>273.484</td>\n",
              "      <td>361.365000</td>\n",
              "      <td>322.689000</td>\n",
              "      <td>14.342789</td>\n",
              "      <td>590.199000</td>\n",
              "      <td>...</td>\n",
              "      <td>71.456000</td>\n",
              "      <td>333.032000</td>\n",
              "      <td>308.732000</td>\n",
              "      <td>174.069000</td>\n",
              "      <td>986.206000</td>\n",
              "      <td>1348.747000</td>\n",
              "      <td>457.313000</td>\n",
              "      <td>53.194000</td>\n",
              "      <td>251.324000</td>\n",
              "      <td>30.460000</td>\n",
              "    </tr>\n",
              "    <tr>\n",
              "      <th>302</th>\n",
              "      <td>avg</td>\n",
              "      <td>21.40</td>\n",
              "      <td>15.167000</td>\n",
              "      <td>85.490</td>\n",
              "      <td>1235.0249</td>\n",
              "      <td>273.484</td>\n",
              "      <td>356.847405</td>\n",
              "      <td>356.847405</td>\n",
              "      <td>1.490076</td>\n",
              "      <td>593.481475</td>\n",
              "      <td>...</td>\n",
              "      <td>66.834877</td>\n",
              "      <td>325.340561</td>\n",
              "      <td>300.360179</td>\n",
              "      <td>162.138824</td>\n",
              "      <td>874.931522</td>\n",
              "      <td>1168.206774</td>\n",
              "      <td>267.095708</td>\n",
              "      <td>49.686983</td>\n",
              "      <td>251.219742</td>\n",
              "      <td>30.461507</td>\n",
              "    </tr>\n",
              "  </tbody>\n",
              "</table>\n",
              "<p>303 rows × 23 columns</p>\n",
              "</div>\n",
              "    <div class=\"colab-df-buttons\">\n",
              "\n",
              "  <div class=\"colab-df-container\">\n",
              "    <button class=\"colab-df-convert\" onclick=\"convertToInteractive('df-150c3604-663f-439e-9b9c-7b0b1746eaa6')\"\n",
              "            title=\"Convert this dataframe to an interactive table.\"\n",
              "            style=\"display:none;\">\n",
              "\n",
              "  <svg xmlns=\"http://www.w3.org/2000/svg\" height=\"24px\" viewBox=\"0 -960 960 960\">\n",
              "    <path d=\"M120-120v-720h720v720H120Zm60-500h600v-160H180v160Zm220 220h160v-160H400v160Zm0 220h160v-160H400v160ZM180-400h160v-160H180v160Zm440 0h160v-160H620v160ZM180-180h160v-160H180v160Zm440 0h160v-160H620v160Z\"/>\n",
              "  </svg>\n",
              "    </button>\n",
              "\n",
              "  <style>\n",
              "    .colab-df-container {\n",
              "      display:flex;\n",
              "      gap: 12px;\n",
              "    }\n",
              "\n",
              "    .colab-df-convert {\n",
              "      background-color: #E8F0FE;\n",
              "      border: none;\n",
              "      border-radius: 50%;\n",
              "      cursor: pointer;\n",
              "      display: none;\n",
              "      fill: #1967D2;\n",
              "      height: 32px;\n",
              "      padding: 0 0 0 0;\n",
              "      width: 32px;\n",
              "    }\n",
              "\n",
              "    .colab-df-convert:hover {\n",
              "      background-color: #E2EBFA;\n",
              "      box-shadow: 0px 1px 2px rgba(60, 64, 67, 0.3), 0px 1px 3px 1px rgba(60, 64, 67, 0.15);\n",
              "      fill: #174EA6;\n",
              "    }\n",
              "\n",
              "    .colab-df-buttons div {\n",
              "      margin-bottom: 4px;\n",
              "    }\n",
              "\n",
              "    [theme=dark] .colab-df-convert {\n",
              "      background-color: #3B4455;\n",
              "      fill: #D2E3FC;\n",
              "    }\n",
              "\n",
              "    [theme=dark] .colab-df-convert:hover {\n",
              "      background-color: #434B5C;\n",
              "      box-shadow: 0px 1px 3px 1px rgba(0, 0, 0, 0.15);\n",
              "      filter: drop-shadow(0px 1px 2px rgba(0, 0, 0, 0.3));\n",
              "      fill: #FFFFFF;\n",
              "    }\n",
              "  </style>\n",
              "\n",
              "    <script>\n",
              "      const buttonEl =\n",
              "        document.querySelector('#df-150c3604-663f-439e-9b9c-7b0b1746eaa6 button.colab-df-convert');\n",
              "      buttonEl.style.display =\n",
              "        google.colab.kernel.accessAllowed ? 'block' : 'none';\n",
              "\n",
              "      async function convertToInteractive(key) {\n",
              "        const element = document.querySelector('#df-150c3604-663f-439e-9b9c-7b0b1746eaa6');\n",
              "        const dataTable =\n",
              "          await google.colab.kernel.invokeFunction('convertToInteractive',\n",
              "                                                    [key], {});\n",
              "        if (!dataTable) return;\n",
              "\n",
              "        const docLinkHtml = 'Like what you see? Visit the ' +\n",
              "          '<a target=\"_blank\" href=https://colab.research.google.com/notebooks/data_table.ipynb>data table notebook</a>'\n",
              "          + ' to learn more about interactive tables.';\n",
              "        element.innerHTML = '';\n",
              "        dataTable['output_type'] = 'display_data';\n",
              "        await google.colab.output.renderOutput(dataTable, element);\n",
              "        const docLink = document.createElement('div');\n",
              "        docLink.innerHTML = docLinkHtml;\n",
              "        element.appendChild(docLink);\n",
              "      }\n",
              "    </script>\n",
              "  </div>\n",
              "\n",
              "\n",
              "<div id=\"df-f77e9ab8-1998-424c-aaa4-59d87ad9072c\">\n",
              "  <button class=\"colab-df-quickchart\" onclick=\"quickchart('df-f77e9ab8-1998-424c-aaa4-59d87ad9072c')\"\n",
              "            title=\"Suggest charts.\"\n",
              "            style=\"display:none;\">\n",
              "\n",
              "<svg xmlns=\"http://www.w3.org/2000/svg\" height=\"24px\"viewBox=\"0 0 24 24\"\n",
              "     width=\"24px\">\n",
              "    <g>\n",
              "        <path d=\"M19 3H5c-1.1 0-2 .9-2 2v14c0 1.1.9 2 2 2h14c1.1 0 2-.9 2-2V5c0-1.1-.9-2-2-2zM9 17H7v-7h2v7zm4 0h-2V7h2v10zm4 0h-2v-4h2v4z\"/>\n",
              "    </g>\n",
              "</svg>\n",
              "  </button>\n",
              "\n",
              "<style>\n",
              "  .colab-df-quickchart {\n",
              "      --bg-color: #E8F0FE;\n",
              "      --fill-color: #1967D2;\n",
              "      --hover-bg-color: #E2EBFA;\n",
              "      --hover-fill-color: #174EA6;\n",
              "      --disabled-fill-color: #AAA;\n",
              "      --disabled-bg-color: #DDD;\n",
              "  }\n",
              "\n",
              "  [theme=dark] .colab-df-quickchart {\n",
              "      --bg-color: #3B4455;\n",
              "      --fill-color: #D2E3FC;\n",
              "      --hover-bg-color: #434B5C;\n",
              "      --hover-fill-color: #FFFFFF;\n",
              "      --disabled-bg-color: #3B4455;\n",
              "      --disabled-fill-color: #666;\n",
              "  }\n",
              "\n",
              "  .colab-df-quickchart {\n",
              "    background-color: var(--bg-color);\n",
              "    border: none;\n",
              "    border-radius: 50%;\n",
              "    cursor: pointer;\n",
              "    display: none;\n",
              "    fill: var(--fill-color);\n",
              "    height: 32px;\n",
              "    padding: 0;\n",
              "    width: 32px;\n",
              "  }\n",
              "\n",
              "  .colab-df-quickchart:hover {\n",
              "    background-color: var(--hover-bg-color);\n",
              "    box-shadow: 0 1px 2px rgba(60, 64, 67, 0.3), 0 1px 3px 1px rgba(60, 64, 67, 0.15);\n",
              "    fill: var(--button-hover-fill-color);\n",
              "  }\n",
              "\n",
              "  .colab-df-quickchart-complete:disabled,\n",
              "  .colab-df-quickchart-complete:disabled:hover {\n",
              "    background-color: var(--disabled-bg-color);\n",
              "    fill: var(--disabled-fill-color);\n",
              "    box-shadow: none;\n",
              "  }\n",
              "\n",
              "  .colab-df-spinner {\n",
              "    border: 2px solid var(--fill-color);\n",
              "    border-color: transparent;\n",
              "    border-bottom-color: var(--fill-color);\n",
              "    animation:\n",
              "      spin 1s steps(1) infinite;\n",
              "  }\n",
              "\n",
              "  @keyframes spin {\n",
              "    0% {\n",
              "      border-color: transparent;\n",
              "      border-bottom-color: var(--fill-color);\n",
              "      border-left-color: var(--fill-color);\n",
              "    }\n",
              "    20% {\n",
              "      border-color: transparent;\n",
              "      border-left-color: var(--fill-color);\n",
              "      border-top-color: var(--fill-color);\n",
              "    }\n",
              "    30% {\n",
              "      border-color: transparent;\n",
              "      border-left-color: var(--fill-color);\n",
              "      border-top-color: var(--fill-color);\n",
              "      border-right-color: var(--fill-color);\n",
              "    }\n",
              "    40% {\n",
              "      border-color: transparent;\n",
              "      border-right-color: var(--fill-color);\n",
              "      border-top-color: var(--fill-color);\n",
              "    }\n",
              "    60% {\n",
              "      border-color: transparent;\n",
              "      border-right-color: var(--fill-color);\n",
              "    }\n",
              "    80% {\n",
              "      border-color: transparent;\n",
              "      border-right-color: var(--fill-color);\n",
              "      border-bottom-color: var(--fill-color);\n",
              "    }\n",
              "    90% {\n",
              "      border-color: transparent;\n",
              "      border-bottom-color: var(--fill-color);\n",
              "    }\n",
              "  }\n",
              "</style>\n",
              "\n",
              "  <script>\n",
              "    async function quickchart(key) {\n",
              "      const quickchartButtonEl =\n",
              "        document.querySelector('#' + key + ' button');\n",
              "      quickchartButtonEl.disabled = true;  // To prevent multiple clicks.\n",
              "      quickchartButtonEl.classList.add('colab-df-spinner');\n",
              "      try {\n",
              "        const charts = await google.colab.kernel.invokeFunction(\n",
              "            'suggestCharts', [key], {});\n",
              "      } catch (error) {\n",
              "        console.error('Error during call to suggestCharts:', error);\n",
              "      }\n",
              "      quickchartButtonEl.classList.remove('colab-df-spinner');\n",
              "      quickchartButtonEl.classList.add('colab-df-quickchart-complete');\n",
              "    }\n",
              "    (() => {\n",
              "      let quickchartButtonEl =\n",
              "        document.querySelector('#df-f77e9ab8-1998-424c-aaa4-59d87ad9072c button');\n",
              "      quickchartButtonEl.style.display =\n",
              "        google.colab.kernel.accessAllowed ? 'block' : 'none';\n",
              "    })();\n",
              "  </script>\n",
              "</div>\n",
              "    </div>\n",
              "  </div>\n"
            ]
          },
          "metadata": {},
          "execution_count": 115
        }
      ]
    },
    {
      "cell_type": "code",
      "source": [
        "df.isnull().sum()"
      ],
      "metadata": {
        "id": "coyJYoMnu73Z",
        "colab": {
          "base_uri": "https://localhost:8080/"
        },
        "outputId": "9c58d99e-4163-4a12-e592-8bc7d2048a4f"
      },
      "execution_count": 116,
      "outputs": [
        {
          "output_type": "execute_result",
          "data": {
            "text/plain": [
              "Observation       0\n",
              "Y-Kappa           0\n",
              "ChipRate          0\n",
              "BF-CMratio        0\n",
              "BlowFlow          0\n",
              "ChipLevel4        0\n",
              "T-upperExt-2      0\n",
              "T-lowerExt-2      0\n",
              "UCZAA             0\n",
              "WhiteFlow-4       0\n",
              "AAWhiteSt-4       0\n",
              "AA-Wood-4         0\n",
              "ChipMoisture-4    0\n",
              "SteamFlow-4       0\n",
              "Lower-HeatT-3     0\n",
              "Upper-HeatT-3     0\n",
              "ChipMass-4        0\n",
              "WeakLiquorF       0\n",
              "BlackFlow-2       0\n",
              "WeakWashF         0\n",
              "SteamHeatF-3      0\n",
              "T-Top-Chips-4     0\n",
              "SulphidityL-4     0\n",
              "dtype: int64"
            ]
          },
          "metadata": {},
          "execution_count": 116
        }
      ]
    },
    {
      "cell_type": "code",
      "source": [
        "sns.displot(df['Y-Kappa'])\n",
        "sns.displot(df['ChipRate'])\n",
        "sns.displot(df['BF-CMratio'])\n",
        "sns.displot(df['ChipLevel4'])\n",
        "sns.displot(df['T-upperExt-2'])\n",
        "sns.displot(df['T-lowerExt-2'])\n",
        "sns.displot(df['UCZAA'])\n",
        "sns.displot(df['WhiteFlow-4'])\n",
        "sns.displot(df['AAWhiteSt-4'])\n",
        "sns.displot(df['AA-Wood-4'])\n",
        "sns.displot(df['ChipMoisture-4'])\n",
        "sns.displot(df['SteamFlow-4'])\n",
        "sns.displot(df['Lower-HeatT-3'])\n",
        "sns.displot(df['Upper-HeatT-3'])\n",
        "sns.displot(df['ChipMass-4'])\n",
        "sns.displot(df['WeakLiquorF'])\n",
        "sns.displot(df['BlackFlow-2'])\n",
        "sns.displot(df['WeakWashF'])\n",
        "sns.displot(df['SteamHeatF-3'])\n",
        "sns.displot(df['T-Top-Chips-4'])\n",
        "sns.displot(df['SulphidityL-4'])"
      ],
      "metadata": {
        "colab": {
          "base_uri": "https://localhost:8080/",
          "height": 1000
        },
        "id": "g88rtw_Kv2w8",
        "outputId": "43a57968-6502-462a-8358-68876ee09a37"
      },
      "execution_count": 117,
      "outputs": [
        {
          "output_type": "stream",
          "name": "stderr",
          "text": [
            "/usr/local/lib/python3.10/dist-packages/seaborn/axisgrid.py:447: RuntimeWarning: More than 20 figures have been opened. Figures created through the pyplot interface (`matplotlib.pyplot.figure`) are retained until explicitly closed and may consume too much memory. (To control this warning, see the rcParam `figure.max_open_warning`). Consider using `matplotlib.pyplot.close()`.\n",
            "  fig = plt.figure(figsize=figsize)\n"
          ]
        },
        {
          "output_type": "execute_result",
          "data": {
            "text/plain": [
              "<seaborn.axisgrid.FacetGrid at 0x7849750f7b50>"
            ]
          },
          "metadata": {},
          "execution_count": 117
        },
        {
          "output_type": "display_data",
          "data": {
            "text/plain": [
              "<Figure size 500x500 with 1 Axes>"
            ],
            "image/png": "[encoded data removed]"
          },
          "metadata": {}
        },
        {
          "output_type": "display_data",
          "data": {
            "text/plain": [
              "<Figure size 500x500 with 1 Axes>"
            ],
            "image/png": "[encoded data removed]"
          },
          "metadata": {}
        },
        {
          "output_type": "display_data",
          "data": {
            "text/plain": [
              "<Figure size 500x500 with 1 Axes>"
            ],
            "image/png": "[encoded data removed]"
          },
          "metadata": {}
        },
        {
          "output_type": "display_data",
          "data": {
            "text/plain": [
              "<Figure size 500x500 with 1 Axes>"
            ],
            "image/png": "[encoded data removed]"
          },
          "metadata": {}
        },
        {
          "output_type": "display_data",
          "data": {
            "text/plain": [
              "<Figure size 500x500 with 1 Axes>"
            ],
            "image/png": "[encoded data removed]"
          },
          "metadata": {}
        },
        {
          "output_type": "display_data",
          "data": {
            "text/plain": [
              "<Figure size 500x500 with 1 Axes>"
            ],
            "image/png": "[encoded data removed]"
          },
          "metadata": {}
        },
        {
          "output_type": "display_data",
          "data": {
            "text/plain": [
              "<Figure size 500x500 with 1 Axes>"
            ],
            "image/png": "[encoded data removed]"
          },
          "metadata": {}
        },
        {
          "output_type": "display_data",
          "data": {
            "text/plain": [
              "<Figure size 500x500 with 1 Axes>"
            ],
            "image/png": "[encoded data removed]"
          },
          "metadata": {}
        },
        {
          "output_type": "display_data",
          "data": {
            "text/plain": [
              "<Figure size 500x500 with 1 Axes>"
            ],
            "image/png": "[encoded data removed]"
          },
          "metadata": {}
        },
        {
          "output_type": "display_data",
          "data": {
            "text/plain": [
              "<Figure size 500x500 with 1 Axes>"
            ],
            "image/png": "[encoded data removed]"
          },
          "metadata": {}
        },
        {
          "output_type": "display_data",
          "data": {
            "text/plain": [
              "<Figure size 500x500 with 1 Axes>"
            ],
            "image/png": "[encoded data removed]"
          },
          "metadata": {}
        },
        {
          "output_type": "display_data",
          "data": {
            "text/plain": [
              "<Figure size 500x500 with 1 Axes>"
            ],
            "image/png": "[encoded data removed]"
          },
          "metadata": {}
        },
        {
          "output_type": "display_data",
          "data": {
            "text/plain": [
              "<Figure size 500x500 with 1 Axes>"
            ],
            "image/png": "[encoded data removed]"
          },
          "metadata": {}
        },
        {
          "output_type": "display_data",
          "data": {
            "text/plain": [
              "<Figure size 500x500 with 1 Axes>"
            ],
            "image/png": "[encoded data removed]"
          },
          "metadata": {}
        },
        {
          "output_type": "display_data",
          "data": {
            "text/plain": [
              "<Figure size 500x500 with 1 Axes>"
            ],
            "image/png": "[encoded data removed]"
          },
          "metadata": {}
        },
        {
          "output_type": "display_data",
          "data": {
            "text/plain": [
              "<Figure size 500x500 with 1 Axes>"
            ],
            "image/png": "[encoded data removed]"
          },
          "metadata": {}
        },
        {
          "output_type": "display_data",
          "data": {
            "text/plain": [
              "<Figure size 500x500 with 1 Axes>"
            ],
            "image/png": "[encoded data removed]"
          },
          "metadata": {}
        },
        {
          "output_type": "display_data",
          "data": {
            "text/plain": [
              "<Figure size 500x500 with 1 Axes>"
            ],
            "image/png": "[encoded data removed]"
          },
          "metadata": {}
        },
        {
          "output_type": "display_data",
          "data": {
            "text/plain": [
              "<Figure size 500x500 with 1 Axes>"
            ],
            "image/png": "[encoded data removed]"
          },
          "metadata": {}
        },
        {
          "output_type": "display_data",
          "data": {
            "text/plain": [
              "<Figure size 500x500 with 1 Axes>"
            ],
            "image/png": "[encoded data removed]"
          },
          "metadata": {}
        },
        {
          "output_type": "display_data",
          "data": {
            "text/plain": [
              "<Figure size 500x500 with 1 Axes>"
            ],
            "image/png": "[encoded data removed]"
          },
          "metadata": {}
        }
      ]
    },
    {
      "cell_type": "code",
      "source": [
        "df.describe()"
      ],
      "metadata": {
        "colab": {
          "base_uri": "https://localhost:8080/",
          "height": 384
        },
        "id": "PycQHi2vwAb1",
        "outputId": "71a9c04e-b317-41cd-a054-ff792f361d29"
      },
      "execution_count": 118,
      "outputs": [
        {
          "output_type": "execute_result",
          "data": {
            "text/plain": [
              "          Y-Kappa    ChipRate  BF-CMratio     BlowFlow  ChipLevel4  \\\n",
              "count  303.000000  303.000000  303.000000   303.000000  303.000000   \n",
              "mean    20.526007   14.342789   83.903499  1182.652400  257.958145   \n",
              "std      3.030584    1.477611   17.135883   266.958641   86.829219   \n",
              "min     12.170000    9.983000   14.342789     0.000000    0.000000   \n",
              "25%     18.365000   13.387500   81.066000  1191.113500  213.197500   \n",
              "50%     20.700000   14.375000   85.790000  1253.469000  271.792000   \n",
              "75%     22.985000   15.482500   91.932000  1287.995500  319.448000   \n",
              "max     27.600000   16.958000  121.717000  1351.240000  419.014000   \n",
              "\n",
              "       T-upperExt-2  T-lowerExt-2       UCZAA  WhiteFlow-4  AAWhiteSt-4  ...  \\\n",
              "count    303.000000    303.000000  303.000000   303.000000   303.000000  ...   \n",
              "mean     355.717027    323.082895    2.508112   591.570126     9.958342  ...   \n",
              "std       21.618649     19.441760    3.478324    74.694864     4.097620  ...   \n",
              "min       14.342789     14.342789    1.182000    14.342789     5.890000  ...   \n",
              "25%      350.185500    321.529000    1.434000   543.040500     6.130000  ...   \n",
              "50%      357.082000    325.608000    1.509000   594.218000     6.259000  ...   \n",
              "75%      362.173500    329.112500    1.586500   644.190000    14.342789  ...   \n",
              "max      399.135000    356.847405   14.342789   731.394000    14.342789  ...   \n",
              "\n",
              "       SteamFlow-4  Lower-HeatT-3  Upper-HeatT-3  ChipMass-4  WeakLiquorF  \\\n",
              "count   303.000000     303.000000     303.000000  303.000000   303.000000   \n",
              "mean     66.661636     324.314166     299.416228  161.651048   872.091295   \n",
              "std       6.379391      18.453040      17.071630   16.432279   132.287673   \n",
              "min      14.342789      14.342789      14.342789   14.342789    14.342789   \n",
              "25%      62.834500     321.230500     296.363000  153.032500   787.790500   \n",
              "50%      67.667000     323.192000     298.469000  163.512000   867.289000   \n",
              "75%      71.651500     329.802000     304.207000  172.264000   968.251000   \n",
              "max      76.147000     333.854000     311.146000  189.268000  1226.277000   \n",
              "\n",
              "       BlackFlow-2   WeakWashF  SteamHeatF-3  T-Top-Chips-4  SulphidityL-4  \n",
              "count   303.000000  303.000000    303.000000     303.000000     303.000000  \n",
              "mean   1164.398642  266.261540     49.686983     251.219742      30.461507  \n",
              "std     163.702833  164.186713      4.587918       1.296419       0.486976  \n",
              "min      14.342789    0.000000     35.510000     248.359000      29.010000  \n",
              "25%    1033.316500  140.589000     46.400500     250.294500      30.355000  \n",
              "50%    1143.910000  279.993000     50.132000     251.335000      30.460000  \n",
              "75%    1317.973500  405.909500     53.237000     252.323500      30.460000  \n",
              "max    1395.767000  715.715000     63.332000     254.122000      32.840000  \n",
              "\n",
              "[8 rows x 22 columns]"
            ],
            "text/html": [
              "\n",
              "  <div id=\"df-b809476e-f35f-46c5-ae5c-e197dedd82b3\" class=\"colab-df-container\">\n",
              "    <div>\n",
              "<style scoped>\n",
              "    .dataframe tbody tr th:only-of-type {\n",
              "        vertical-align: middle;\n",
              "    }\n",
              "\n",
              "    .dataframe tbody tr th {\n",
              "        vertical-align: top;\n",
              "    }\n",
              "\n",
              "    .dataframe thead th {\n",
              "        text-align: right;\n",
              "    }\n",
              "</style>\n",
              "<table border=\"1\" class=\"dataframe\">\n",
              "  <thead>\n",
              "    <tr style=\"text-align: right;\">\n",
              "      <th></th>\n",
              "      <th>Y-Kappa</th>\n",
              "      <th>ChipRate</th>\n",
              "      <th>BF-CMratio</th>\n",
              "      <th>BlowFlow</th>\n",
              "      <th>ChipLevel4</th>\n",
              "      <th>T-upperExt-2</th>\n",
              "      <th>T-lowerExt-2</th>\n",
              "      <th>UCZAA</th>\n",
              "      <th>WhiteFlow-4</th>\n",
              "      <th>AAWhiteSt-4</th>\n",
              "      <th>...</th>\n",
              "      <th>SteamFlow-4</th>\n",
              "      <th>Lower-HeatT-3</th>\n",
              "      <th>Upper-HeatT-3</th>\n",
              "      <th>ChipMass-4</th>\n",
              "      <th>WeakLiquorF</th>\n",
              "      <th>BlackFlow-2</th>\n",
              "      <th>WeakWashF</th>\n",
              "      <th>SteamHeatF-3</th>\n",
              "      <th>T-Top-Chips-4</th>\n",
              "      <th>SulphidityL-4</th>\n",
              "    </tr>\n",
              "  </thead>\n",
              "  <tbody>\n",
              "    <tr>\n",
              "      <th>count</th>\n",
              "      <td>303.000000</td>\n",
              "      <td>303.000000</td>\n",
              "      <td>303.000000</td>\n",
              "      <td>303.000000</td>\n",
              "      <td>303.000000</td>\n",
              "      <td>303.000000</td>\n",
              "      <td>303.000000</td>\n",
              "      <td>303.000000</td>\n",
              "      <td>303.000000</td>\n",
              "      <td>303.000000</td>\n",
              "      <td>...</td>\n",
              "      <td>303.000000</td>\n",
              "      <td>303.000000</td>\n",
              "      <td>303.000000</td>\n",
              "      <td>303.000000</td>\n",
              "      <td>303.000000</td>\n",
              "      <td>303.000000</td>\n",
              "      <td>303.000000</td>\n",
              "      <td>303.000000</td>\n",
              "      <td>303.000000</td>\n",
              "      <td>303.000000</td>\n",
              "    </tr>\n",
              "    <tr>\n",
              "      <th>mean</th>\n",
              "      <td>20.526007</td>\n",
              "      <td>14.342789</td>\n",
              "      <td>83.903499</td>\n",
              "      <td>1182.652400</td>\n",
              "      <td>257.958145</td>\n",
              "      <td>355.717027</td>\n",
              "      <td>323.082895</td>\n",
              "      <td>2.508112</td>\n",
              "      <td>591.570126</td>\n",
              "      <td>9.958342</td>\n",
              "      <td>...</td>\n",
              "      <td>66.661636</td>\n",
              "      <td>324.314166</td>\n",
              "      <td>299.416228</td>\n",
              "      <td>161.651048</td>\n",
              "      <td>872.091295</td>\n",
              "      <td>1164.398642</td>\n",
              "      <td>266.261540</td>\n",
              "      <td>49.686983</td>\n",
              "      <td>251.219742</td>\n",
              "      <td>30.461507</td>\n",
              "    </tr>\n",
              "    <tr>\n",
              "      <th>std</th>\n",
              "      <td>3.030584</td>\n",
              "      <td>1.477611</td>\n",
              "      <td>17.135883</td>\n",
              "      <td>266.958641</td>\n",
              "      <td>86.829219</td>\n",
              "      <td>21.618649</td>\n",
              "      <td>19.441760</td>\n",
              "      <td>3.478324</td>\n",
              "      <td>74.694864</td>\n",
              "      <td>4.097620</td>\n",
              "      <td>...</td>\n",
              "      <td>6.379391</td>\n",
              "      <td>18.453040</td>\n",
              "      <td>17.071630</td>\n",
              "      <td>16.432279</td>\n",
              "      <td>132.287673</td>\n",
              "      <td>163.702833</td>\n",
              "      <td>164.186713</td>\n",
              "      <td>4.587918</td>\n",
              "      <td>1.296419</td>\n",
              "      <td>0.486976</td>\n",
              "    </tr>\n",
              "    <tr>\n",
              "      <th>min</th>\n",
              "      <td>12.170000</td>\n",
              "      <td>9.983000</td>\n",
              "      <td>14.342789</td>\n",
              "      <td>0.000000</td>\n",
              "      <td>0.000000</td>\n",
              "      <td>14.342789</td>\n",
              "      <td>14.342789</td>\n",
              "      <td>1.182000</td>\n",
              "      <td>14.342789</td>\n",
              "      <td>5.890000</td>\n",
              "      <td>...</td>\n",
              "      <td>14.342789</td>\n",
              "      <td>14.342789</td>\n",
              "      <td>14.342789</td>\n",
              "      <td>14.342789</td>\n",
              "      <td>14.342789</td>\n",
              "      <td>14.342789</td>\n",
              "      <td>0.000000</td>\n",
              "      <td>35.510000</td>\n",
              "      <td>248.359000</td>\n",
              "      <td>29.010000</td>\n",
              "    </tr>\n",
              "    <tr>\n",
              "      <th>25%</th>\n",
              "      <td>18.365000</td>\n",
              "      <td>13.387500</td>\n",
              "      <td>81.066000</td>\n",
              "      <td>1191.113500</td>\n",
              "      <td>213.197500</td>\n",
              "      <td>350.185500</td>\n",
              "      <td>321.529000</td>\n",
              "      <td>1.434000</td>\n",
              "      <td>543.040500</td>\n",
              "      <td>6.130000</td>\n",
              "      <td>...</td>\n",
              "      <td>62.834500</td>\n",
              "      <td>321.230500</td>\n",
              "      <td>296.363000</td>\n",
              "      <td>153.032500</td>\n",
              "      <td>787.790500</td>\n",
              "      <td>1033.316500</td>\n",
              "      <td>140.589000</td>\n",
              "      <td>46.400500</td>\n",
              "      <td>250.294500</td>\n",
              "      <td>30.355000</td>\n",
              "    </tr>\n",
              "    <tr>\n",
              "      <th>50%</th>\n",
              "      <td>20.700000</td>\n",
              "      <td>14.375000</td>\n",
              "      <td>85.790000</td>\n",
              "      <td>1253.469000</td>\n",
              "      <td>271.792000</td>\n",
              "      <td>357.082000</td>\n",
              "      <td>325.608000</td>\n",
              "      <td>1.509000</td>\n",
              "      <td>594.218000</td>\n",
              "      <td>6.259000</td>\n",
              "      <td>...</td>\n",
              "      <td>67.667000</td>\n",
              "      <td>323.192000</td>\n",
              "      <td>298.469000</td>\n",
              "      <td>163.512000</td>\n",
              "      <td>867.289000</td>\n",
              "      <td>1143.910000</td>\n",
              "      <td>279.993000</td>\n",
              "      <td>50.132000</td>\n",
              "      <td>251.335000</td>\n",
              "      <td>30.460000</td>\n",
              "    </tr>\n",
              "    <tr>\n",
              "      <th>75%</th>\n",
              "      <td>22.985000</td>\n",
              "      <td>15.482500</td>\n",
              "      <td>91.932000</td>\n",
              "      <td>1287.995500</td>\n",
              "      <td>319.448000</td>\n",
              "      <td>362.173500</td>\n",
              "      <td>329.112500</td>\n",
              "      <td>1.586500</td>\n",
              "      <td>644.190000</td>\n",
              "      <td>14.342789</td>\n",
              "      <td>...</td>\n",
              "      <td>71.651500</td>\n",
              "      <td>329.802000</td>\n",
              "      <td>304.207000</td>\n",
              "      <td>172.264000</td>\n",
              "      <td>968.251000</td>\n",
              "      <td>1317.973500</td>\n",
              "      <td>405.909500</td>\n",
              "      <td>53.237000</td>\n",
              "      <td>252.323500</td>\n",
              "      <td>30.460000</td>\n",
              "    </tr>\n",
              "    <tr>\n",
              "      <th>max</th>\n",
              "      <td>27.600000</td>\n",
              "      <td>16.958000</td>\n",
              "      <td>121.717000</td>\n",
              "      <td>1351.240000</td>\n",
              "      <td>419.014000</td>\n",
              "      <td>399.135000</td>\n",
              "      <td>356.847405</td>\n",
              "      <td>14.342789</td>\n",
              "      <td>731.394000</td>\n",
              "      <td>14.342789</td>\n",
              "      <td>...</td>\n",
              "      <td>76.147000</td>\n",
              "      <td>333.854000</td>\n",
              "      <td>311.146000</td>\n",
              "      <td>189.268000</td>\n",
              "      <td>1226.277000</td>\n",
              "      <td>1395.767000</td>\n",
              "      <td>715.715000</td>\n",
              "      <td>63.332000</td>\n",
              "      <td>254.122000</td>\n",
              "      <td>32.840000</td>\n",
              "    </tr>\n",
              "  </tbody>\n",
              "</table>\n",
              "<p>8 rows × 22 columns</p>\n",
              "</div>\n",
              "    <div class=\"colab-df-buttons\">\n",
              "\n",
              "  <div class=\"colab-df-container\">\n",
              "    <button class=\"colab-df-convert\" onclick=\"convertToInteractive('df-b809476e-f35f-46c5-ae5c-e197dedd82b3')\"\n",
              "            title=\"Convert this dataframe to an interactive table.\"\n",
              "            style=\"display:none;\">\n",
              "\n",
              "  <svg xmlns=\"http://www.w3.org/2000/svg\" height=\"24px\" viewBox=\"0 -960 960 960\">\n",
              "    <path d=\"M120-120v-720h720v720H120Zm60-500h600v-160H180v160Zm220 220h160v-160H400v160Zm0 220h160v-160H400v160ZM180-400h160v-160H180v160Zm440 0h160v-160H620v160ZM180-180h160v-160H180v160Zm440 0h160v-160H620v160Z\"/>\n",
              "  </svg>\n",
              "    </button>\n",
              "\n",
              "  <style>\n",
              "    .colab-df-container {\n",
              "      display:flex;\n",
              "      gap: 12px;\n",
              "    }\n",
              "\n",
              "    .colab-df-convert {\n",
              "      background-color: #E8F0FE;\n",
              "      border: none;\n",
              "      border-radius: 50%;\n",
              "      cursor: pointer;\n",
              "      display: none;\n",
              "      fill: #1967D2;\n",
              "      height: 32px;\n",
              "      padding: 0 0 0 0;\n",
              "      width: 32px;\n",
              "    }\n",
              "\n",
              "    .colab-df-convert:hover {\n",
              "      background-color: #E2EBFA;\n",
              "      box-shadow: 0px 1px 2px rgba(60, 64, 67, 0.3), 0px 1px 3px 1px rgba(60, 64, 67, 0.15);\n",
              "      fill: #174EA6;\n",
              "    }\n",
              "\n",
              "    .colab-df-buttons div {\n",
              "      margin-bottom: 4px;\n",
              "    }\n",
              "\n",
              "    [theme=dark] .colab-df-convert {\n",
              "      background-color: #3B4455;\n",
              "      fill: #D2E3FC;\n",
              "    }\n",
              "\n",
              "    [theme=dark] .colab-df-convert:hover {\n",
              "      background-color: #434B5C;\n",
              "      box-shadow: 0px 1px 3px 1px rgba(0, 0, 0, 0.15);\n",
              "      filter: drop-shadow(0px 1px 2px rgba(0, 0, 0, 0.3));\n",
              "      fill: #FFFFFF;\n",
              "    }\n",
              "  </style>\n",
              "\n",
              "    <script>\n",
              "      const buttonEl =\n",
              "        document.querySelector('#df-b809476e-f35f-46c5-ae5c-e197dedd82b3 button.colab-df-convert');\n",
              "      buttonEl.style.display =\n",
              "        google.colab.kernel.accessAllowed ? 'block' : 'none';\n",
              "\n",
              "      async function convertToInteractive(key) {\n",
              "        const element = document.querySelector('#df-b809476e-f35f-46c5-ae5c-e197dedd82b3');\n",
              "        const dataTable =\n",
              "          await google.colab.kernel.invokeFunction('convertToInteractive',\n",
              "                                                    [key], {});\n",
              "        if (!dataTable) return;\n",
              "\n",
              "        const docLinkHtml = 'Like what you see? Visit the ' +\n",
              "          '<a target=\"_blank\" href=https://colab.research.google.com/notebooks/data_table.ipynb>data table notebook</a>'\n",
              "          + ' to learn more about interactive tables.';\n",
              "        element.innerHTML = '';\n",
              "        dataTable['output_type'] = 'display_data';\n",
              "        await google.colab.output.renderOutput(dataTable, element);\n",
              "        const docLink = document.createElement('div');\n",
              "        docLink.innerHTML = docLinkHtml;\n",
              "        element.appendChild(docLink);\n",
              "      }\n",
              "    </script>\n",
              "  </div>\n",
              "\n",
              "\n",
              "<div id=\"df-1cf70e4b-f99f-4f98-a7b6-367976c4b620\">\n",
              "  <button class=\"colab-df-quickchart\" onclick=\"quickchart('df-1cf70e4b-f99f-4f98-a7b6-367976c4b620')\"\n",
              "            title=\"Suggest charts.\"\n",
              "            style=\"display:none;\">\n",
              "\n",
              "<svg xmlns=\"http://www.w3.org/2000/svg\" height=\"24px\"viewBox=\"0 0 24 24\"\n",
              "     width=\"24px\">\n",
              "    <g>\n",
              "        <path d=\"M19 3H5c-1.1 0-2 .9-2 2v14c0 1.1.9 2 2 2h14c1.1 0 2-.9 2-2V5c0-1.1-.9-2-2-2zM9 17H7v-7h2v7zm4 0h-2V7h2v10zm4 0h-2v-4h2v4z\"/>\n",
              "    </g>\n",
              "</svg>\n",
              "  </button>\n",
              "\n",
              "<style>\n",
              "  .colab-df-quickchart {\n",
              "      --bg-color: #E8F0FE;\n",
              "      --fill-color: #1967D2;\n",
              "      --hover-bg-color: #E2EBFA;\n",
              "      --hover-fill-color: #174EA6;\n",
              "      --disabled-fill-color: #AAA;\n",
              "      --disabled-bg-color: #DDD;\n",
              "  }\n",
              "\n",
              "  [theme=dark] .colab-df-quickchart {\n",
              "      --bg-color: #3B4455;\n",
              "      --fill-color: #D2E3FC;\n",
              "      --hover-bg-color: #434B5C;\n",
              "      --hover-fill-color: #FFFFFF;\n",
              "      --disabled-bg-color: #3B4455;\n",
              "      --disabled-fill-color: #666;\n",
              "  }\n",
              "\n",
              "  .colab-df-quickchart {\n",
              "    background-color: var(--bg-color);\n",
              "    border: none;\n",
              "    border-radius: 50%;\n",
              "    cursor: pointer;\n",
              "    display: none;\n",
              "    fill: var(--fill-color);\n",
              "    height: 32px;\n",
              "    padding: 0;\n",
              "    width: 32px;\n",
              "  }\n",
              "\n",
              "  .colab-df-quickchart:hover {\n",
              "    background-color: var(--hover-bg-color);\n",
              "    box-shadow: 0 1px 2px rgba(60, 64, 67, 0.3), 0 1px 3px 1px rgba(60, 64, 67, 0.15);\n",
              "    fill: var(--button-hover-fill-color);\n",
              "  }\n",
              "\n",
              "  .colab-df-quickchart-complete:disabled,\n",
              "  .colab-df-quickchart-complete:disabled:hover {\n",
              "    background-color: var(--disabled-bg-color);\n",
              "    fill: var(--disabled-fill-color);\n",
              "    box-shadow: none;\n",
              "  }\n",
              "\n",
              "  .colab-df-spinner {\n",
              "    border: 2px solid var(--fill-color);\n",
              "    border-color: transparent;\n",
              "    border-bottom-color: var(--fill-color);\n",
              "    animation:\n",
              "      spin 1s steps(1) infinite;\n",
              "  }\n",
              "\n",
              "  @keyframes spin {\n",
              "    0% {\n",
              "      border-color: transparent;\n",
              "      border-bottom-color: var(--fill-color);\n",
              "      border-left-color: var(--fill-color);\n",
              "    }\n",
              "    20% {\n",
              "      border-color: transparent;\n",
              "      border-left-color: var(--fill-color);\n",
              "      border-top-color: var(--fill-color);\n",
              "    }\n",
              "    30% {\n",
              "      border-color: transparent;\n",
              "      border-left-color: var(--fill-color);\n",
              "      border-top-color: var(--fill-color);\n",
              "      border-right-color: var(--fill-color);\n",
              "    }\n",
              "    40% {\n",
              "      border-color: transparent;\n",
              "      border-right-color: var(--fill-color);\n",
              "      border-top-color: var(--fill-color);\n",
              "    }\n",
              "    60% {\n",
              "      border-color: transparent;\n",
              "      border-right-color: var(--fill-color);\n",
              "    }\n",
              "    80% {\n",
              "      border-color: transparent;\n",
              "      border-right-color: var(--fill-color);\n",
              "      border-bottom-color: var(--fill-color);\n",
              "    }\n",
              "    90% {\n",
              "      border-color: transparent;\n",
              "      border-bottom-color: var(--fill-color);\n",
              "    }\n",
              "  }\n",
              "</style>\n",
              "\n",
              "  <script>\n",
              "    async function quickchart(key) {\n",
              "      const quickchartButtonEl =\n",
              "        document.querySelector('#' + key + ' button');\n",
              "      quickchartButtonEl.disabled = true;  // To prevent multiple clicks.\n",
              "      quickchartButtonEl.classList.add('colab-df-spinner');\n",
              "      try {\n",
              "        const charts = await google.colab.kernel.invokeFunction(\n",
              "            'suggestCharts', [key], {});\n",
              "      } catch (error) {\n",
              "        console.error('Error during call to suggestCharts:', error);\n",
              "      }\n",
              "      quickchartButtonEl.classList.remove('colab-df-spinner');\n",
              "      quickchartButtonEl.classList.add('colab-df-quickchart-complete');\n",
              "    }\n",
              "    (() => {\n",
              "      let quickchartButtonEl =\n",
              "        document.querySelector('#df-1cf70e4b-f99f-4f98-a7b6-367976c4b620 button');\n",
              "      quickchartButtonEl.style.display =\n",
              "        google.colab.kernel.accessAllowed ? 'block' : 'none';\n",
              "    })();\n",
              "  </script>\n",
              "</div>\n",
              "    </div>\n",
              "  </div>\n"
            ]
          },
          "metadata": {},
          "execution_count": 118
        }
      ]
    },
    {
      "cell_type": "code",
      "source": [],
      "metadata": {
        "id": "k4azLDNeCwgf"
      },
      "execution_count": 118,
      "outputs": []
    },
    {
      "cell_type": "code",
      "source": [
        "def outliers(df, ft):\n",
        "  q1 = df[ft].quantile(0.25)\n",
        "  q3 = df[ft].quantile(0.75)\n",
        "  IQR = q3 - q1\n",
        "  lower_bound = q1 - 1.5 * IQR\n",
        "  upper_bound = q3 + 1.5 * IQR\n",
        "  ls = df.index[(df[ft]<lower_bound)] | (df[ft]>upper_bound)\n",
        "  return ls"
      ],
      "metadata": {
        "id": "m7KHPKHjzkQT"
      },
      "execution_count": 119,
      "outputs": []
    },
    {
      "cell_type": "code",
      "source": [],
      "metadata": {
        "id": "dpsQjBnrBqis"
      },
      "execution_count": 119,
      "outputs": []
    },
    {
      "cell_type": "code",
      "source": [
        "index_list = []\n",
        "for i in ['WhiteFlow-4']:\n",
        "  index_list.extend(outliers(df,i))\n",
        "  index_list"
      ],
      "metadata": {
        "colab": {
          "base_uri": "https://localhost:8080/"
        },
        "id": "XcqF9t0x1lHn",
        "outputId": "c7f955fd-9e38-4dd7-d01f-38a130e01d44"
      },
      "execution_count": 120,
      "outputs": [
        {
          "output_type": "stream",
          "name": "stderr",
          "text": [
            "<ipython-input-119-f3fee9f91c26>:7: FutureWarning: Index.__or__ operating as a set operation is deprecated, in the future this will be a logical operation matching Series.__or__.  Use index.union(other) instead.\n",
            "  ls = df.index[(df[ft]<lower_bound)] | (df[ft]>upper_bound)\n"
          ]
        }
      ]
    },
    {
      "cell_type": "code",
      "source": [
        " def remove(df, ls):\n",
        "     ls=sorted(set(ls))\n",
        "     df=df.drop(ls)\n",
        "     return df"
      ],
      "metadata": {
        "id": "o4LpDiKJzldL"
      },
      "execution_count": 121,
      "outputs": []
    },
    {
      "cell_type": "code",
      "source": [
        "df_clean=remove(df, index_list)"
      ],
      "metadata": {
        "id": "UxVVGqLZzq48"
      },
      "execution_count": 122,
      "outputs": []
    },
    {
      "cell_type": "code",
      "source": [
        "df_clean.shape"
      ],
      "metadata": {
        "id": "PirpIrjz1F-Y",
        "colab": {
          "base_uri": "https://localhost:8080/"
        },
        "outputId": "790024c1-3b0e-482c-d1fb-d33f99569c90"
      },
      "execution_count": 123,
      "outputs": [
        {
          "output_type": "execute_result",
          "data": {
            "text/plain": [
              "(301, 23)"
            ]
          },
          "metadata": {},
          "execution_count": 123
        }
      ]
    },
    {
      "cell_type": "markdown",
      "source": [],
      "metadata": {
        "id": "oJFAonyb4NP7"
      }
    },
    {
      "cell_type": "code",
      "source": [
        "sns.displot(df_clean['WhiteFlow-4'])\n",
        "\n",
        "sns.displot(df_clean['ChipMoisture-4'])\n"
      ],
      "metadata": {
        "id": "DqENiBk61Uxb",
        "colab": {
          "base_uri": "https://localhost:8080/",
          "height": 1000
        },
        "outputId": "778b46d1-46e5-4806-a863-7113bb6da28f"
      },
      "execution_count": 124,
      "outputs": [
        {
          "output_type": "execute_result",
          "data": {
            "text/plain": [
              "<seaborn.axisgrid.FacetGrid at 0x784973fd4250>"
            ]
          },
          "metadata": {},
          "execution_count": 124
        },
        {
          "output_type": "display_data",
          "data": {
            "text/plain": [
              "<Figure size 500x500 with 1 Axes>"
            ],
            "image/png": "[encoded data removed]"
          },
          "metadata": {}
        },
        {
          "output_type": "display_data",
          "data": {
            "text/plain": [
              "<Figure size 500x500 with 1 Axes>"
            ],
            "image/png": "[encoded data removed]"
          },
          "metadata": {}
        }
      ]
    },
    {
      "cell_type": "code",
      "source": [
        "df['AA-Wood-4'].mean()"
      ],
      "metadata": {
        "colab": {
          "base_uri": "https://localhost:8080/"
        },
        "id": "QApK1779AFS7",
        "outputId": "392c1b29-704d-4cb3-b49f-fff6cdcf43b5"
      },
      "execution_count": 125,
      "outputs": [
        {
          "output_type": "execute_result",
          "data": {
            "text/plain": [
              "17.88888255405168"
            ]
          },
          "metadata": {},
          "execution_count": 125
        }
      ]
    },
    {
      "cell_type": "code",
      "source": [
        "df1=df[df['AA-Wood-4']>17]"
      ],
      "metadata": {
        "id": "2VoTerlNAMqr"
      },
      "execution_count": 126,
      "outputs": []
    },
    {
      "cell_type": "code",
      "source": [
        "sns.displot(df1['AA-Wood-4'])"
      ],
      "metadata": {
        "colab": {
          "base_uri": "https://localhost:8080/",
          "height": 523
        },
        "id": "K9bdorEiAvu2",
        "outputId": "b370612b-c9b1-4f0c-a2d9-bd29ff7971bf"
      },
      "execution_count": 127,
      "outputs": [
        {
          "output_type": "execute_result",
          "data": {
            "text/plain": [
              "<seaborn.axisgrid.FacetGrid at 0x78496f5b39d0>"
            ]
          },
          "metadata": {},
          "execution_count": 127
        },
        {
          "output_type": "display_data",
          "data": {
            "text/plain": [
              "<Figure size 500x500 with 1 Axes>"
            ],
            "image/png": "[encoded data removed]"
          },
          "metadata": {}
        }
      ]
    },
    {
      "cell_type": "code",
      "source": [
        "df['T-Top-Chips-4'].mean()"
      ],
      "metadata": {
        "id": "pOFmDbKD8su3",
        "colab": {
          "base_uri": "https://localhost:8080/"
        },
        "outputId": "7c3e5325-d5cb-4ef8-fce9-28ba2f731b58"
      },
      "execution_count": 128,
      "outputs": [
        {
          "output_type": "execute_result",
          "data": {
            "text/plain": [
              "251.2197417217822"
            ]
          },
          "metadata": {},
          "execution_count": 128
        }
      ]
    },
    {
      "cell_type": "code",
      "source": [
        "df1=df[df['T-Top-Chips-4']>17]\n"
      ],
      "metadata": {
        "id": "DOOYtoP291PX"
      },
      "execution_count": 129,
      "outputs": []
    },
    {
      "cell_type": "code",
      "source": [
        "sns.displot(df1['T-Top-Chips-4'])"
      ],
      "metadata": {
        "colab": {
          "base_uri": "https://localhost:8080/",
          "height": 523
        },
        "id": "YWf7Ldhf9NsP",
        "outputId": "22587d93-3a59-4453-f7c8-d784c6172427"
      },
      "execution_count": 130,
      "outputs": [
        {
          "output_type": "execute_result",
          "data": {
            "text/plain": [
              "<seaborn.axisgrid.FacetGrid at 0x78496f5b11e0>"
            ]
          },
          "metadata": {},
          "execution_count": 130
        },
        {
          "output_type": "display_data",
          "data": {
            "text/plain": [
              "<Figure size 500x500 with 1 Axes>"
            ],
            "image/png": "[encoded data removed]"
          },
          "metadata": {}
        }
      ]
    },
    {
      "cell_type": "code",
      "source": [
        "df['BF-CMratio'].mean()"
      ],
      "metadata": {
        "colab": {
          "base_uri": "https://localhost:8080/"
        },
        "id": "4u7WmicO-x9D",
        "outputId": "c36dac76-0469-44d7-d3c7-6cb1abb949a2"
      },
      "execution_count": 131,
      "outputs": [
        {
          "output_type": "execute_result",
          "data": {
            "text/plain": [
              "83.90349851540337"
            ]
          },
          "metadata": {},
          "execution_count": 131
        }
      ]
    },
    {
      "cell_type": "code",
      "source": [
        "df1=df[df['BF-CMratio']>106]\n",
        "sns.displot(df1['BF-CMratio'])"
      ],
      "metadata": {
        "colab": {
          "base_uri": "https://localhost:8080/",
          "height": 523
        },
        "id": "rWaZWDk181mX",
        "outputId": "efe65393-1632-45e4-85ee-659b4b734cb4"
      },
      "execution_count": 132,
      "outputs": [
        {
          "output_type": "execute_result",
          "data": {
            "text/plain": [
              "<seaborn.axisgrid.FacetGrid at 0x78496f5e07c0>"
            ]
          },
          "metadata": {},
          "execution_count": 132
        },
        {
          "output_type": "display_data",
          "data": {
            "text/plain": [
              "<Figure size 500x500 with 1 Axes>"
            ],
            "image/png": "[encoded data removed]"
          },
          "metadata": {}
        }
      ]
    },
    {
      "cell_type": "code",
      "source": [
        "df['T-upperExt-2'].mean()"
      ],
      "metadata": {
        "id": "YrJ9hLZT9A65",
        "colab": {
          "base_uri": "https://localhost:8080/"
        },
        "outputId": "c8b6a55b-0765-42d4-e849-29109aee193a"
      },
      "execution_count": 133,
      "outputs": [
        {
          "output_type": "execute_result",
          "data": {
            "text/plain": [
              "355.7170270448768"
            ]
          },
          "metadata": {},
          "execution_count": 133
        }
      ]
    },
    {
      "cell_type": "code",
      "source": [
        "df1=df[df['T-upperExt-2']>380]\n",
        "sns.displot(df1['T-upperExt-2'])"
      ],
      "metadata": {
        "colab": {
          "base_uri": "https://localhost:8080/",
          "height": 523
        },
        "id": "POPPEV_P-afH",
        "outputId": "94490732-9e3f-4160-fe4c-8d69e75271d0"
      },
      "execution_count": 134,
      "outputs": [
        {
          "output_type": "execute_result",
          "data": {
            "text/plain": [
              "<seaborn.axisgrid.FacetGrid at 0x78496f4f0250>"
            ]
          },
          "metadata": {},
          "execution_count": 134
        },
        {
          "output_type": "display_data",
          "data": {
            "text/plain": [
              "<Figure size 500x500 with 1 Axes>"
            ],
            "image/png": "[encoded data removed]"
          },
          "metadata": {}
        }
      ]
    },
    {
      "cell_type": "code",
      "source": [
        "df['T-lowerExt-2'].mean()"
      ],
      "metadata": {
        "colab": {
          "base_uri": "https://localhost:8080/"
        },
        "id": "NRklYVFa9gri",
        "outputId": "6ba53e7c-e99c-4a3f-b885-74308121a7b8"
      },
      "execution_count": 135,
      "outputs": [
        {
          "output_type": "execute_result",
          "data": {
            "text/plain": [
              "323.0828950316755"
            ]
          },
          "metadata": {},
          "execution_count": 135
        }
      ]
    },
    {
      "cell_type": "code",
      "source": [
        "f=df1=df[df['T-lowerExt-2']<285]\n",
        "sns.displot(df1['T-lowerExt-2'])\n"
      ],
      "metadata": {
        "id": "iAORJaqX9Lbr",
        "colab": {
          "base_uri": "https://localhost:8080/",
          "height": 523
        },
        "outputId": "83f0de8f-c314-4e25-b28d-74492db6911a"
      },
      "execution_count": 276,
      "outputs": [
        {
          "output_type": "execute_result",
          "data": {
            "text/plain": [
              "<seaborn.axisgrid.FacetGrid at 0x78496a646e00>"
            ]
          },
          "metadata": {},
          "execution_count": 276
        },
        {
          "output_type": "display_data",
          "data": {
            "text/plain": [
              "<Figure size 500x500 with 1 Axes>"
            ],
            "image/png": "[encoded data removed]"
          },
          "metadata": {}
        }
      ]
    },
    {
      "cell_type": "code",
      "source": [
        "df['UCZAA'].mean()"
      ],
      "metadata": {
        "id": "-FfyLdnraAbM",
        "colab": {
          "base_uri": "https://localhost:8080/"
        },
        "outputId": "832920a1-6a69-4dcb-df2e-1b5c9c20af02"
      },
      "execution_count": 137,
      "outputs": [
        {
          "output_type": "execute_result",
          "data": {
            "text/plain": [
              "2.5081122728838703"
            ]
          },
          "metadata": {},
          "execution_count": 137
        }
      ]
    },
    {
      "cell_type": "code",
      "source": [
        "df1=df[df['UCZAA']<1.90]\n",
        "sns.displot(df1['UCZAA'])"
      ],
      "metadata": {
        "id": "sWKsFuzJdE_l",
        "colab": {
          "base_uri": "https://localhost:8080/",
          "height": 523
        },
        "outputId": "f7668351-73c0-43e9-c2d8-b3ffc7845aa8"
      },
      "execution_count": 158,
      "outputs": [
        {
          "output_type": "execute_result",
          "data": {
            "text/plain": [
              "<seaborn.axisgrid.FacetGrid at 0x78496e61a5f0>"
            ]
          },
          "metadata": {},
          "execution_count": 158
        },
        {
          "output_type": "display_data",
          "data": {
            "text/plain": [
              "<Figure size 500x500 with 1 Axes>"
            ],
            "image/png": "[encoded data removed]"
          },
          "metadata": {}
        }
      ]
    },
    {
      "cell_type": "code",
      "source": [
        "df['AAWhiteSt-4'].mean()"
      ],
      "metadata": {
        "id": "uvm0wlU3dcx-",
        "colab": {
          "base_uri": "https://localhost:8080/"
        },
        "outputId": "c3516bd1-83b8-493d-bbf7-493b3441deb3"
      },
      "execution_count": 159,
      "outputs": [
        {
          "output_type": "execute_result",
          "data": {
            "text/plain": [
              "9.958341714247195"
            ]
          },
          "metadata": {},
          "execution_count": 159
        }
      ]
    },
    {
      "cell_type": "code",
      "source": [
        "df1=df[df['AAWhiteSt-4']<6.5]\n",
        "sns.displot(df1['AAWhiteSt-4'])"
      ],
      "metadata": {
        "id": "fyV6W30FdtAm",
        "colab": {
          "base_uri": "https://localhost:8080/",
          "height": 523
        },
        "outputId": "85e33cb1-7966-4751-c95c-a5bfb55fb907"
      },
      "execution_count": 169,
      "outputs": [
        {
          "output_type": "execute_result",
          "data": {
            "text/plain": [
              "<seaborn.axisgrid.FacetGrid at 0x78497459f9a0>"
            ]
          },
          "metadata": {},
          "execution_count": 169
        },
        {
          "output_type": "display_data",
          "data": {
            "text/plain": [
              "<Figure size 500x500 with 1 Axes>"
            ],
            "image/png": "[encoded data removed]"
          },
          "metadata": {}
        }
      ]
    },
    {
      "cell_type": "code",
      "source": [
        "df['SteamFlow-4'].mean()"
      ],
      "metadata": {
        "id": "OnCtQZkneEk1",
        "colab": {
          "base_uri": "https://localhost:8080/"
        },
        "outputId": "1cb2494b-c971-4b39-b6cd-9e5372d4407a"
      },
      "execution_count": 171,
      "outputs": [
        {
          "output_type": "execute_result",
          "data": {
            "text/plain": [
              "66.66163586263254"
            ]
          },
          "metadata": {},
          "execution_count": 171
        }
      ]
    },
    {
      "cell_type": "code",
      "source": [
        "df1=df[df['SteamFlow-4']>55]\n",
        "sns.displot(df1['SteamFlow-4'])"
      ],
      "metadata": {
        "id": "egV-JGa8hcqP",
        "colab": {
          "base_uri": "https://localhost:8080/",
          "height": 523
        },
        "outputId": "ff8ed3c4-4a05-49aa-c5f4-0c1dee461e3f"
      },
      "execution_count": 176,
      "outputs": [
        {
          "output_type": "execute_result",
          "data": {
            "text/plain": [
              "<seaborn.axisgrid.FacetGrid at 0x78496de63cd0>"
            ]
          },
          "metadata": {},
          "execution_count": 176
        },
        {
          "output_type": "display_data",
          "data": {
            "text/plain": [
              "<Figure size 500x500 with 1 Axes>"
            ],
            "image/png": "[encoded data removed]"
          },
          "metadata": {}
        }
      ]
    },
    {
      "cell_type": "code",
      "source": [
        "df['Lower-HeatT-3'].mean()"
      ],
      "metadata": {
        "id": "byxQU3OIhCwA",
        "colab": {
          "base_uri": "https://localhost:8080/"
        },
        "outputId": "970177b0-2dc7-4800-c388-cc9963aeb32e"
      },
      "execution_count": 177,
      "outputs": [
        {
          "output_type": "execute_result",
          "data": {
            "text/plain": [
              "324.31416617424975"
            ]
          },
          "metadata": {},
          "execution_count": 177
        }
      ]
    },
    {
      "cell_type": "code",
      "source": [
        "df1=df[df['Lower-HeatT-3']>55]\n",
        "sns.displot(df1['Lower-HeatT-3'])"
      ],
      "metadata": {
        "id": "cFJAFN7IhsF8",
        "colab": {
          "base_uri": "https://localhost:8080/",
          "height": 523
        },
        "outputId": "4cb9c4dd-f785-42ca-dda6-3f2a58cbca87"
      },
      "execution_count": 178,
      "outputs": [
        {
          "output_type": "execute_result",
          "data": {
            "text/plain": [
              "<seaborn.axisgrid.FacetGrid at 0x784975145420>"
            ]
          },
          "metadata": {},
          "execution_count": 178
        },
        {
          "output_type": "display_data",
          "data": {
            "text/plain": [
              "<Figure size 500x500 with 1 Axes>"
            ],
            "image/png": "[encoded data removed]"
          },
          "metadata": {}
        }
      ]
    },
    {
      "cell_type": "code",
      "source": [
        "df['Upper-HeatT-3'].mean()"
      ],
      "metadata": {
        "id": "ScqQvSGDhyHG",
        "colab": {
          "base_uri": "https://localhost:8080/"
        },
        "outputId": "c1bcf618-b105-40a9-a20a-37abcd25284e"
      },
      "execution_count": 180,
      "outputs": [
        {
          "output_type": "execute_result",
          "data": {
            "text/plain": [
              "299.4162276194642"
            ]
          },
          "metadata": {},
          "execution_count": 180
        }
      ]
    },
    {
      "cell_type": "code",
      "source": [
        "df1=df[df['Upper-HeatT-3']>55]\n",
        "sns.displot(df1['Upper-HeatT-3'])"
      ],
      "metadata": {
        "id": "cSrrKdTkjA-p",
        "colab": {
          "base_uri": "https://localhost:8080/",
          "height": 523
        },
        "outputId": "c209b9e3-8293-4bb8-c7ea-3e2fc2cd3db5"
      },
      "execution_count": 181,
      "outputs": [
        {
          "output_type": "execute_result",
          "data": {
            "text/plain": [
              "<seaborn.axisgrid.FacetGrid at 0x78496ddecd60>"
            ]
          },
          "metadata": {},
          "execution_count": 181
        },
        {
          "output_type": "display_data",
          "data": {
            "text/plain": [
              "<Figure size 500x500 with 1 Axes>"
            ],
            "image/png": "[encoded data removed]"
          },
          "metadata": {}
        }
      ]
    },
    {
      "cell_type": "code",
      "source": [
        "df['ChipMass-4'].mean()"
      ],
      "metadata": {
        "colab": {
          "base_uri": "https://localhost:8080/"
        },
        "id": "WgC_-OQCHnnu",
        "outputId": "c28b207f-d6ec-44b1-aeae-f2fa33aaa811"
      },
      "execution_count": 184,
      "outputs": [
        {
          "output_type": "execute_result",
          "data": {
            "text/plain": [
              "161.65104822837512"
            ]
          },
          "metadata": {},
          "execution_count": 184
        }
      ]
    },
    {
      "cell_type": "code",
      "source": [
        "df1=df[df['ChipMass-4']>55]\n",
        "sns.displot(df1['ChipMass-4'])"
      ],
      "metadata": {
        "colab": {
          "base_uri": "https://localhost:8080/",
          "height": 523
        },
        "id": "5x9WfoxgHynP",
        "outputId": "fc069f76-903d-4cd1-b615-99705216b57d"
      },
      "execution_count": 185,
      "outputs": [
        {
          "output_type": "execute_result",
          "data": {
            "text/plain": [
              "<seaborn.axisgrid.FacetGrid at 0x78496dd6a710>"
            ]
          },
          "metadata": {},
          "execution_count": 185
        },
        {
          "output_type": "display_data",
          "data": {
            "text/plain": [
              "<Figure size 500x500 with 1 Axes>"
            ],
            "image/png": "[encoded data removed]"
          },
          "metadata": {}
        }
      ]
    },
    {
      "cell_type": "code",
      "source": [
        "df['WeakLiquorF'].mean()"
      ],
      "metadata": {
        "colab": {
          "base_uri": "https://localhost:8080/"
        },
        "id": "aUFJIcFVIHSe",
        "outputId": "6dabbdcf-4db0-440a-8b30-995924fa48e1"
      },
      "execution_count": 186,
      "outputs": [
        {
          "output_type": "execute_result",
          "data": {
            "text/plain": [
              "872.0912947554376"
            ]
          },
          "metadata": {},
          "execution_count": 186
        }
      ]
    },
    {
      "cell_type": "code",
      "source": [
        "df1=df[df['WeakLiquorF']>550]\n",
        "sns.displot(df1['WeakLiquorF'])"
      ],
      "metadata": {
        "colab": {
          "base_uri": "https://localhost:8080/",
          "height": 523
        },
        "id": "8yfVOR5eIVJx",
        "outputId": "b56decf1-7625-4a6f-af3d-10156c91a09a"
      },
      "execution_count": 189,
      "outputs": [
        {
          "output_type": "execute_result",
          "data": {
            "text/plain": [
              "<seaborn.axisgrid.FacetGrid at 0x78496f98cbe0>"
            ]
          },
          "metadata": {},
          "execution_count": 189
        },
        {
          "output_type": "display_data",
          "data": {
            "text/plain": [
              "<Figure size 500x500 with 1 Axes>"
            ],
            "image/png": "[encoded data removed]"
          },
          "metadata": {}
        }
      ]
    },
    {
      "cell_type": "code",
      "source": [
        "df['BlackFlow-2'].mean()"
      ],
      "metadata": {
        "colab": {
          "base_uri": "https://localhost:8080/"
        },
        "id": "6ds1Y0RjIgxC",
        "outputId": "b27e73ed-a614-409b-c6ce-71f161384c56"
      },
      "execution_count": 190,
      "outputs": [
        {
          "output_type": "execute_result",
          "data": {
            "text/plain": [
              "1164.3986421230943"
            ]
          },
          "metadata": {},
          "execution_count": 190
        }
      ]
    },
    {
      "cell_type": "code",
      "source": [
        "df1=df[df['BlackFlow-2']>550]\n",
        "sns.displot(df1['BlackFlow-2'])"
      ],
      "metadata": {
        "colab": {
          "base_uri": "https://localhost:8080/",
          "height": 523
        },
        "id": "xAXjDWLUIzMv",
        "outputId": "b12fd504-0b5a-4ca3-846d-cbff9992a0d3"
      },
      "execution_count": 191,
      "outputs": [
        {
          "output_type": "execute_result",
          "data": {
            "text/plain": [
              "<seaborn.axisgrid.FacetGrid at 0x78496fc43190>"
            ]
          },
          "metadata": {},
          "execution_count": 191
        },
        {
          "output_type": "display_data",
          "data": {
            "text/plain": [
              "<Figure size 500x500 with 1 Axes>"
            ],
            "image/png": "[encoded data removed]"
          },
          "metadata": {}
        }
      ]
    },
    {
      "cell_type": "code",
      "source": [
        "df['SteamHeatF-3'].mean()"
      ],
      "metadata": {
        "colab": {
          "base_uri": "https://localhost:8080/"
        },
        "id": "XIlHRzxtI_uu",
        "outputId": "f252edcd-db29-40ca-f0f1-c89865031ee4"
      },
      "execution_count": 192,
      "outputs": [
        {
          "output_type": "execute_result",
          "data": {
            "text/plain": [
              "49.68698344369637"
            ]
          },
          "metadata": {},
          "execution_count": 192
        }
      ]
    },
    {
      "cell_type": "code",
      "source": [
        "df1=df[df['SteamHeatF-3']>55]\n",
        "sns.displot(df1['SteamHeatF-3'])"
      ],
      "metadata": {
        "colab": {
          "base_uri": "https://localhost:8080/",
          "height": 523
        },
        "id": "0G3szJ32JNmi",
        "outputId": "3e50829d-1824-44be-a0d9-0fc06a3be7a8"
      },
      "execution_count": 197,
      "outputs": [
        {
          "output_type": "execute_result",
          "data": {
            "text/plain": [
              "<seaborn.axisgrid.FacetGrid at 0x78496fd893c0>"
            ]
          },
          "metadata": {},
          "execution_count": 197
        },
        {
          "output_type": "display_data",
          "data": {
            "text/plain": [
              "<Figure size 500x500 with 1 Axes>"
            ],
            "image/png": "[encoded data removed]"
          },
          "metadata": {}
        }
      ]
    },
    {
      "cell_type": "code",
      "source": [
        "df['SulphidityL-4'].mean()"
      ],
      "metadata": {
        "colab": {
          "base_uri": "https://localhost:8080/"
        },
        "id": "Kl5u_H6lJb38",
        "outputId": "43176c1f-2be0-4cbd-ce3f-64ad50558da3"
      },
      "execution_count": 198,
      "outputs": [
        {
          "output_type": "execute_result",
          "data": {
            "text/plain": [
              "30.461506622508253"
            ]
          },
          "metadata": {},
          "execution_count": 198
        }
      ]
    },
    {
      "cell_type": "code",
      "source": [
        "df1=df[df['SulphidityL-4']<30]\n",
        "sns.displot(df1['SulphidityL-4'])"
      ],
      "metadata": {
        "colab": {
          "base_uri": "https://localhost:8080/",
          "height": 523
        },
        "id": "JyWt3TqAJ4ZP",
        "outputId": "2772b7df-b475-4288-f9a1-8c04d3de99db"
      },
      "execution_count": 241,
      "outputs": [
        {
          "output_type": "execute_result",
          "data": {
            "text/plain": [
              "<seaborn.axisgrid.FacetGrid at 0x784970ca29b0>"
            ]
          },
          "metadata": {},
          "execution_count": 241
        },
        {
          "output_type": "display_data",
          "data": {
            "text/plain": [
              "<Figure size 500x500 with 1 Axes>"
            ],
            "image/png": "[encoded data removed]"
          },
          "metadata": {}
        }
      ]
    },
    {
      "cell_type": "code",
      "source": [],
      "metadata": {
        "id": "8Jf-nF-kKC1L"
      },
      "execution_count": null,
      "outputs": []
    }
  ]
}